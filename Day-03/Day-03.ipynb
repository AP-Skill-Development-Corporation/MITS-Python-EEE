{
 "cells": [
  {
   "cell_type": "code",
   "execution_count": 4,
   "metadata": {},
   "outputs": [
    {
     "name": "stdout",
     "output_type": "stream",
     "text": [
      "87\n",
      "5\n",
      "45\n"
     ]
    }
   ],
   "source": [
    "a = 45\n",
    "h = 87\n",
    "print(a and h)\n",
    "print(a & h)\n",
    "print(h and a)"
   ]
  },
  {
   "cell_type": "code",
   "execution_count": 5,
   "metadata": {},
   "outputs": [
    {
     "name": "stdout",
     "output_type": "stream",
     "text": [
      "45\n",
      "127\n",
      "87\n"
     ]
    }
   ],
   "source": [
    "a = 45\n",
    "h = 87\n",
    "print(a or h)\n",
    "print(a | h)\n",
    "print(h or a)"
   ]
  },
  {
   "cell_type": "markdown",
   "metadata": {},
   "source": [
    "## Output Formatting:\n",
    "    - , +\n",
    "    - %\n",
    "    - .format\n",
    "    - f"
   ]
  },
  {
   "cell_type": "markdown",
   "metadata": {},
   "source": [
    "## Typecasting:\n",
    "    - To Change one Data type of value to another data type\n",
    "    - int()\n",
    "    - float()\n",
    "    - string()\n",
    "    - complex()\n",
    "    - All Data Structures [list(),tuple(),set() and dict()]"
   ]
  },
  {
   "cell_type": "code",
   "execution_count": 15,
   "metadata": {},
   "outputs": [
    {
     "name": "stdout",
     "output_type": "stream",
     "text": [
      "Enter a value: 2\n",
      "Enter b value: 5\n",
      "2 <class 'str'> 5 <class 'str'>\n",
      "Substraction of 2 and 5 is: -3\n",
      "2 <class 'str'> 5 <class 'str'>\n"
     ]
    }
   ],
   "source": [
    "a = input(\"Enter a value: \")\n",
    "b = input(\"Enter b value: \")\n",
    "print(a,type(a),b,type(b))\n",
    "print(f\"Substraction of {a} and {b} is: {int(a)-int(b)}\")\n",
    "print(a,type(a),b,type(b))"
   ]
  },
  {
   "cell_type": "code",
   "execution_count": 17,
   "metadata": {},
   "outputs": [
    {
     "name": "stdout",
     "output_type": "stream",
     "text": [
      "Enter a value: 2\n",
      "Enter b value: 3\n",
      "Addition of 2 and 3 is: 5\n",
      "Addition of 2 and 3 is: 5\n",
      "Addition of 2 and 3 is: 5\n",
      "Addition of 2 and 3 is: 5\n",
      "Addition of 3 and 2 is: 5\n",
      "Addition of 2 and 3 is: 5\n"
     ]
    }
   ],
   "source": [
    "n = int(input(\"Enter a value: \"))\n",
    "m = int(input(\"Enter b value: \"))\n",
    "print(\"Addition of\",n,\"and\",m,\"is:\",n+m)\n",
    "print(\"Addition of \"+str(n)+\" and \"+str(m)+\" is: \"+str(n+m))\n",
    "print(\"Addition of %s and %s is: %s\"%(n,m,n+m))\n",
    "print(\"Addition of {} and {} is: {}\".format(n,m,n+m))\n",
    "print(\"Addition of {1} and {0} is: {2}\".format(n,m,n+m))\n",
    "print(f\"Addition of {n} and {m} is: {n+m}\")"
   ]
  },
  {
   "cell_type": "code",
   "execution_count": 18,
   "metadata": {},
   "outputs": [],
   "source": [
    "import keyword"
   ]
  },
  {
   "cell_type": "code",
   "execution_count": 19,
   "metadata": {},
   "outputs": [
    {
     "name": "stdout",
     "output_type": "stream",
     "text": [
      "['__all__', '__builtins__', '__cached__', '__doc__', '__file__', '__loader__', '__name__', '__package__', '__spec__', 'iskeyword', 'kwlist']\n"
     ]
    }
   ],
   "source": [
    "print(dir(keyword))"
   ]
  },
  {
   "cell_type": "code",
   "execution_count": 21,
   "metadata": {},
   "outputs": [
    {
     "name": "stdout",
     "output_type": "stream",
     "text": [
      "['False', 'None', 'True', 'and', 'as', 'assert', 'async', 'await', 'break', 'class', 'continue', 'def', 'del', 'elif', 'else', 'except', 'finally', 'for', 'from', 'global', 'if', 'import', 'in', 'is', 'lambda', 'nonlocal', 'not', 'or', 'pass', 'raise', 'return', 'try', 'while', 'with', 'yield'] 35\n"
     ]
    }
   ],
   "source": [
    "print(keyword.kwlist,len(keyword.kwlist))"
   ]
  },
  {
   "cell_type": "markdown",
   "metadata": {},
   "source": [
    "```\n",
    "    Task-1:\n",
    "    =======\n",
    "    Expression: 5x^2+2y\n",
    "    Input:\n",
    "        Enter x value: ?\n",
    "        Enter y value: ?\n",
    "    Output:\n",
    "        Entered value of x is: ?\n",
    "        Entered value of y is: ?\n",
    "        Expression of 5x^2+2y is: ?\n",
    "```"
   ]
  },
  {
   "cell_type": "code",
   "execution_count": 24,
   "metadata": {},
   "outputs": [
    {
     "name": "stdout",
     "output_type": "stream",
     "text": [
      "Enter x value: 6\n",
      "Enter y value: 2\n",
      "Entered value of x is: 6\n",
      "Entered value of y is: 2\n",
      "Expression of 5x^2+2y is: 184\n"
     ]
    }
   ],
   "source": [
    "a = int(input(\"Enter x value: \"))\n",
    "b = int(input(\"Enter y value: \"))\n",
    "print(f\"Entered value of x is: {a}\")\n",
    "print(f\"Entered value of y is: {b}\")\n",
    "print(f\"Expression of 5x^2+2y is: {5*a**2+2*b}\")"
   ]
  },
  {
   "cell_type": "markdown",
   "metadata": {},
   "source": [
    "## Conditional Statements:\n",
    "    - To check whether a given condition is either True or False\n",
    "    - if => single case\n",
    "    - if-else => 2 cases\n",
    "    - nested if => 3 or more cases\n",
    "    - elif => 3 or more n number of cases"
   ]
  },
  {
   "cell_type": "markdown",
   "metadata": {},
   "source": [
    "## If:\n",
    "    Syntax:\n",
    "        if condition:\n",
    "            //statements\n",
    "        () => Optional"
   ]
  },
  {
   "cell_type": "code",
   "execution_count": 26,
   "metadata": {},
   "outputs": [
    {
     "name": "stdout",
     "output_type": "stream",
     "text": [
      "Enter a number: 656\n",
      "Entered number 656 is greater than 200\n"
     ]
    }
   ],
   "source": [
    "n = int(input(\"Enter a number: \"))\n",
    "if n>200:\n",
    "    print(f\"Entered number {n} is greater than 200\")"
   ]
  },
  {
   "cell_type": "code",
   "execution_count": 32,
   "metadata": {},
   "outputs": [
    {
     "name": "stdout",
     "output_type": "stream",
     "text": [
      "Enter a number: 20\n",
      "Entered number 20 is in between range of 10 and 30\n"
     ]
    }
   ],
   "source": [
    "m = int(input(\"Enter a number: \"))\n",
    "if m<30 and m>10:\n",
    "    print(f\"Entered number {m} is in between range of 10 and 30\")"
   ]
  },
  {
   "cell_type": "markdown",
   "metadata": {},
   "source": [
    "## If-else:\n",
    "    Syntax:\n",
    "        if condition:\n",
    "            //statement\n",
    "        else:\n",
    "            //statement"
   ]
  },
  {
   "cell_type": "code",
   "execution_count": 34,
   "metadata": {},
   "outputs": [
    {
     "name": "stdout",
     "output_type": "stream",
     "text": [
      "Enter a number: 5\n",
      "Entered number 5 is not divisible by 3\n"
     ]
    }
   ],
   "source": [
    "z = int(input(\"Enter a number: \"))\n",
    "if z%3==0:\n",
    "    print(f\"Entered number {z}\")\n",
    "    print(f\"5x^2 Expression value is: {5*z*z}\")\n",
    "else:\n",
    "    print(f\"Entered number {z} is not divisible by 3\")"
   ]
  },
  {
   "cell_type": "code",
   "execution_count": 38,
   "metadata": {},
   "outputs": [
    {
     "name": "stdout",
     "output_type": "stream",
     "text": [
      "Enter a value: 450\n",
      "Entered number 450 is divisible by 2 and 5\n"
     ]
    }
   ],
   "source": [
    "h = int(input(\"Enter a value: \"))\n",
    "if h%2==0 and h%5==0:\n",
    "    print(f\"Entered number {h} is divisible by 2 and 5\")\n",
    "else:\n",
    "    print(f\"Entered number {h} is not divisible by 2 and 5\")"
   ]
  },
  {
   "cell_type": "markdown",
   "metadata": {},
   "source": [
    "## Nested if:\n",
    "    Syntax:\n",
    "        if condition-1:\n",
    "            if condition-2:\n",
    "                //statement-1\n",
    "            else:\n",
    "                //statement-n\n",
    "        else:\n",
    "            //statement-(n-1)"
   ]
  },
  {
   "cell_type": "code",
   "execution_count": 42,
   "metadata": {},
   "outputs": [
    {
     "name": "stdout",
     "output_type": "stream",
     "text": [
      "Enter Username: tilak\n",
      "Enter Password: 234\n",
      "Invalid Username/Password\n"
     ]
    }
   ],
   "source": [
    "us = input(\"Enter Username: \")\n",
    "pd = input(\"Enter Password: \")\n",
    "if us == \"ramesh\":\n",
    "    if pd == \"ER54\":\n",
    "        print(f\"Welcome User {us}\")\n",
    "    else:\n",
    "        print(\"Invalid Username/Password\")\n",
    "else:\n",
    "    print(\"Invalid Username/Password\")"
   ]
  },
  {
   "cell_type": "code",
   "execution_count": 46,
   "metadata": {},
   "outputs": [
    {
     "name": "stdout",
     "output_type": "stream",
     "text": [
      "Enter Username: ramesh\n",
      "Enter Password: ER54\n",
      "Welcome User ramesh\n"
     ]
    }
   ],
   "source": [
    "us = input(\"Enter Username: \")\n",
    "pd = input(\"Enter Password: \")\n",
    "if us == \"ramesh\" and pd == \"ER54\":\n",
    "    print(f\"Welcome User {us}\")\n",
    "else:\n",
    "    print(\"Invalid Username/Password\")"
   ]
  },
  {
   "cell_type": "code",
   "execution_count": 3,
   "metadata": {},
   "outputs": [
    {
     "name": "stdout",
     "output_type": "stream",
     "text": [
      "Enter username: prasad\n",
      "Enter password: TY56\n",
      "Welcome User prasad\n"
     ]
    }
   ],
   "source": [
    "u = input(\"Enter username: \")\n",
    "if u == \"prasad\":\n",
    "    p = input(\"Enter password: \")\n",
    "    if p == \"TY56\":\n",
    "        print(f\"Welcome User {u}\")\n",
    "    else:\n",
    "        print(\"Invalid Password\")\n",
    "else:\n",
    "    print(f\"Invalid Username {u}\")"
   ]
  },
  {
   "cell_type": "markdown",
   "metadata": {},
   "source": [
    "## Elif\n",
    "    Syntax:\n",
    "        if condition-1:\n",
    "            //statement-1\n",
    "        elif condition-2:\n",
    "            //statement-2\n",
    "            |        |\n",
    "        elif condition-n:\n",
    "            //statement-n\n",
    "        else:\n",
    "            //statement-(n-2)"
   ]
  },
  {
   "cell_type": "code",
   "execution_count": 6,
   "metadata": {},
   "outputs": [
    {
     "name": "stdout",
     "output_type": "stream",
     "text": [
      "Enter a number: 75\n",
      "Entered number 75 is Odd\n"
     ]
    }
   ],
   "source": [
    "k = int(input(\"Enter a number: \"))\n",
    "if k%2==0 and k>70 and k<100:\n",
    "    print(\"Entered number {} is in between range of 70 and 100\")\n",
    "elif k%2==0:\n",
    "    print(f\"Entered number {k} is Even\")\n",
    "elif k>30 and k<50:\n",
    "    print(f\"Entered number {k} is in between range of 30 and 50\")\n",
    "else:\n",
    "    print(f\"Entered number {k} is Odd\")"
   ]
  },
  {
   "cell_type": "markdown",
   "metadata": {},
   "source": [
    "## Loops or Repitions or Iterations\n",
    "    - To iterate a statement for n number of times\n",
    "    - for => known ranges\n",
    "    - while => known and unknown ranges"
   ]
  },
  {
   "cell_type": "markdown",
   "metadata": {},
   "source": [
    "## For:\n",
    "    Syntax:\n",
    "        for iterationvariablename in range(start,stop,step):\n",
    "            //statements\n",
    "            \n",
    "            or\n",
    "        for iterationvariablename in Iterator:\n",
    "            //statements\n",
    "        \n",
    "        Iterators: List,Tuple,Set,String and Dictionary"
   ]
  },
  {
   "cell_type": "markdown",
   "metadata": {},
   "source": [
    "## range:\n",
    "    - range(end)\n",
    "        => By default it starts from 0\n",
    "        => By default it increments +1\n",
    "        => It ends with end-1 value\n",
    "        Ex:\n",
    "            range(5)\n",
    "                0 1 2 3 4\n",
    "    - range(start,end)\n",
    "        => It starts exactly with start value\n",
    "        => It ends with end-1 value\n",
    "        => By default it increments with +1\n",
    "        Ex:\n",
    "            range(5,9)\n",
    "                5 6 7 8\n",
    "    - range(start,end,step)\n",
    "        => It starts exactly with start value\n",
    "        => It ends with end-1 value\n",
    "        => It increments/decremnets with step value\n",
    "        Ex:\n",
    "            range(1,10,3)\n",
    "                1 4 7"
   ]
  },
  {
   "cell_type": "code",
   "execution_count": 13,
   "metadata": {},
   "outputs": [
    {
     "name": "stdout",
     "output_type": "stream",
     "text": [
      "Enter a range: 5\n",
      "0 1 2 3 4 "
     ]
    }
   ],
   "source": [
    "n = int(input(\"Enter a range: \"))\n",
    "for i in range(n):\n",
    "    print(i,end=\" \")"
   ]
  },
  {
   "cell_type": "code",
   "execution_count": 15,
   "metadata": {},
   "outputs": [
    {
     "name": "stdout",
     "output_type": "stream",
     "text": [
      "Enter a range: 5\n",
      "1 2 3 4 5 "
     ]
    }
   ],
   "source": [
    "n = int(input(\"Enter a range: \"))\n",
    "for i in range(n):\n",
    "    print(i+1,end=\" \")"
   ]
  },
  {
   "cell_type": "code",
   "execution_count": 16,
   "metadata": {},
   "outputs": [
    {
     "name": "stdout",
     "output_type": "stream",
     "text": [
      "Enter a range: 5\n",
      "4 3 2 1 0 "
     ]
    }
   ],
   "source": [
    "n = int(input(\"Enter a range: \"))\n",
    "for i in range(n):\n",
    "    print(n-i-1,end=\" \")"
   ]
  },
  {
   "cell_type": "code",
   "execution_count": 17,
   "metadata": {},
   "outputs": [
    {
     "name": "stdout",
     "output_type": "stream",
     "text": [
      "Enter start range: 10\n",
      "Enter end range: 20\n",
      "10 11 12 13 14 15 16 17 18 19 "
     ]
    }
   ],
   "source": [
    "n = int(input(\"Enter start range: \"))\n",
    "m = int(input(\"Enter end range: \"))\n",
    "for i in range(n,m):\n",
    "    print(i,end=\" \")"
   ]
  },
  {
   "cell_type": "code",
   "execution_count": 18,
   "metadata": {},
   "outputs": [
    {
     "name": "stdout",
     "output_type": "stream",
     "text": [
      "Enter start range: 10\n",
      "Enter end range: 20\n",
      "19 18 17 16 15 14 13 12 11 10 "
     ]
    }
   ],
   "source": [
    "n = int(input(\"Enter start range: \"))\n",
    "m = int(input(\"Enter end range: \"))\n",
    "for i in range(n,m):\n",
    "    print(n+m-i-1,end=\" \")"
   ]
  },
  {
   "cell_type": "code",
   "execution_count": 25,
   "metadata": {},
   "outputs": [
    {
     "name": "stdout",
     "output_type": "stream",
     "text": [
      "Enter start range: -10\n",
      "Enter stop range: -20\n",
      "Enter step range: -3\n",
      "-10 -13 -16 -19 "
     ]
    }
   ],
   "source": [
    "s = int(input(\"Enter start range: \"))\n",
    "en = int(input(\"Enter stop range: \"))\n",
    "k = int(input(\"Enter step range: \"))\n",
    "for i in range(s,en,k):\n",
    "    print(i,end=\" \")"
   ]
  },
  {
   "cell_type": "markdown",
   "metadata": {},
   "source": [
    "```\n",
    "    Input:\n",
    "        10\n",
    "        19\n",
    "    Output:\n",
    "        Numbers divisible by 3 is: 12 15 18 \n",
    "```"
   ]
  },
  {
   "cell_type": "code",
   "execution_count": 28,
   "metadata": {},
   "outputs": [
    {
     "name": "stdout",
     "output_type": "stream",
     "text": [
      "10\n",
      "19\n",
      "Numbers divisible by 3 is: 12 15 18 "
     ]
    }
   ],
   "source": [
    "k = int(input())\n",
    "m = int(input())\n",
    "print(\"Numbers divisible by 3 is: \",end=\"\")\n",
    "for i in range(k,m):\n",
    "    if i%3==0:\n",
    "        print(i,end=\" \")"
   ]
  },
  {
   "cell_type": "markdown",
   "metadata": {},
   "source": [
    "## While:\n",
    "    Syntax:\n",
    "        initialization\n",
    "        while condition:\n",
    "            //statements\n",
    "            incr/decr"
   ]
  },
  {
   "cell_type": "code",
   "execution_count": 30,
   "metadata": {},
   "outputs": [
    {
     "name": "stdout",
     "output_type": "stream",
     "text": [
      "Enter a range: 5\n",
      "0 1 2 3 4 "
     ]
    }
   ],
   "source": [
    "i = 0\n",
    "n = int(input(\"Enter a range: \"))\n",
    "while n!=i:\n",
    "    print(i,end=\" \")\n",
    "    i +=1"
   ]
  },
  {
   "cell_type": "code",
   "execution_count": 33,
   "metadata": {},
   "outputs": [
    {
     "name": "stdout",
     "output_type": "stream",
     "text": [
      "Enter a range: 5\n",
      "4 3 2 1 0 "
     ]
    }
   ],
   "source": [
    "i = 0\n",
    "n = int(input(\"Enter a range: \"))\n",
    "while n!=i:\n",
    "    print(n-1,end=\" \")\n",
    "    n -=1"
   ]
  },
  {
   "cell_type": "code",
   "execution_count": null,
   "metadata": {},
   "outputs": [],
   "source": [
    "n = int(input())\n",
    "if n%2==0:\n",
    "    if n>2 and n<5:\n",
    "        print(\"Not Weird\")\n",
    "    elif n>6 and n<20:\n",
    "        print(\"Weird\")\n",
    "    else:\n",
    "        print(\"Not Weird\")\n",
    "else:\n",
    "    print(\"Not Weird\")"
   ]
  },
  {
   "cell_type": "code",
   "execution_count": null,
   "metadata": {},
   "outputs": [],
   "source": [
    "n = int(input())\n",
    "if n%2==0 and n>2 and n<5:\n",
    "    print(\"Not Weird\")\n",
    "elif n%2==0 and n>=6 and n<=20:\n",
    "    print(\"Weird\")\n",
    "elif n%2==0 and n>20:\n",
    "    print(\"Not Weird\")\n",
    "else:\n",
    "    print(\"Weird\")"
   ]
  }
 ],
 "metadata": {
  "kernelspec": {
   "display_name": "Python 3",
   "language": "python",
   "name": "python3"
  },
  "language_info": {
   "codemirror_mode": {
    "name": "ipython",
    "version": 3
   },
   "file_extension": ".py",
   "mimetype": "text/x-python",
   "name": "python",
   "nbconvert_exporter": "python",
   "pygments_lexer": "ipython3",
   "version": "3.8.5"
  }
 },
 "nbformat": 4,
 "nbformat_minor": 4
}
