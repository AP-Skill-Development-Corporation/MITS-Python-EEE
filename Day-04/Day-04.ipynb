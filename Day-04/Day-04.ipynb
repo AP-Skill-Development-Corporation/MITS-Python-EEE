{
 "cells": [
  {
   "cell_type": "code",
   "execution_count": 3,
   "metadata": {},
   "outputs": [
    {
     "name": "stdout",
     "output_type": "stream",
     "text": [
      "Enter a number: 456785464\n",
      "Given number is: 456785464 and its reverse is: 464587654\n",
      "Digit count is: 9\n"
     ]
    }
   ],
   "source": [
    "n = int(input(\"Enter a number: \"))\n",
    "k,c = 0,0\n",
    "print(f\"Given number is: {n}\",end=\"\")\n",
    "while n!=0:\n",
    "    k = k*10+n%10\n",
    "    n //= 10\n",
    "    c += 1\n",
    "print(f\" and its reverse is: {k}\")\n",
    "print(f\"Digit count is: {c}\")"
   ]
  },
  {
   "cell_type": "markdown",
   "metadata": {},
   "source": [
    "## Jumping Statements:\n",
    "    - break => It exists from a loop\n",
    "    - continue => It skips a value from a loop \n",
    "    - pass => It acts like continue and for further enhancements we can prefer pass to implement the code\n",
    "    - return => It returns single or n number of values in a function"
   ]
  },
  {
   "cell_type": "code",
   "execution_count": 5,
   "metadata": {},
   "outputs": [
    {
     "name": "stdout",
     "output_type": "stream",
     "text": [
      "Enter a range: 50\n",
      "0 1 2 3 4 5 6 7 8 9 10 11 12 13 14 15 16 17 18 19 20 "
     ]
    }
   ],
   "source": [
    "n = int(input(\"Enter a range: \"))\n",
    "for i in range(n):\n",
    "    if i>20:\n",
    "        break\n",
    "    else:\n",
    "        print(i,end=\" \")     "
   ]
  },
  {
   "cell_type": "code",
   "execution_count": 9,
   "metadata": {},
   "outputs": [
    {
     "name": "stdout",
     "output_type": "stream",
     "text": [
      "Enter a range: 100\n",
      "0 1 2 3 4 5 6 7 8 9 10 11 12 13 14 15 16 17 18 19 20 21\n"
     ]
    }
   ],
   "source": [
    "n = int(input(\"Enter a range: \"))\n",
    "for i in range(n):\n",
    "    if i>20:\n",
    "        break\n",
    "    else:\n",
    "        print(i,end=\" \")  \n",
    "print(i)"
   ]
  },
  {
   "cell_type": "code",
   "execution_count": 10,
   "metadata": {},
   "outputs": [
    {
     "name": "stdout",
     "output_type": "stream",
     "text": [
      "Enter a range: 100\n",
      "0 1 2 3 4 5 6 7 8 9 10 11 12 13 14 15 16 17 18 19 20 99\n"
     ]
    }
   ],
   "source": [
    "n = int(input(\"Enter a range: \"))\n",
    "for i in range(n):\n",
    "    if i>20:\n",
    "        continue\n",
    "    else:\n",
    "        print(i,end=\" \")\n",
    "print(i)"
   ]
  },
  {
   "cell_type": "code",
   "execution_count": 11,
   "metadata": {},
   "outputs": [
    {
     "name": "stdout",
     "output_type": "stream",
     "text": [
      "Enter a range: 15\n",
      "0 1 2 3 4 5 6 7 8 9 11 12 13 14 14\n"
     ]
    }
   ],
   "source": [
    "n = int(input(\"Enter a range: \"))\n",
    "for i in range(n):\n",
    "    if i==10:\n",
    "        continue\n",
    "    else:\n",
    "        print(i,end=\" \")\n",
    "print(i)"
   ]
  },
  {
   "cell_type": "code",
   "execution_count": 12,
   "metadata": {},
   "outputs": [
    {
     "name": "stdout",
     "output_type": "stream",
     "text": [
      "Enter a range: 23\n",
      "0 1 2 3 4 5 6 7 8 9 11 12 13 14 15 16 17 18 19 20 21 22 22\n"
     ]
    }
   ],
   "source": [
    "n = int(input(\"Enter a range: \"))\n",
    "for i in range(n):\n",
    "    if i==10:\n",
    "        pass\n",
    "    else:\n",
    "        print(i,end=\" \")\n",
    "print(i)"
   ]
  },
  {
   "cell_type": "code",
   "execution_count": 13,
   "metadata": {},
   "outputs": [
    {
     "name": "stdout",
     "output_type": "stream",
     "text": [
      "Enter a range: 20\n",
      "0 1 2 3 4 5 6 7 8 9 10 11 12 13 14 15 16 17 18 19 19\n"
     ]
    }
   ],
   "source": [
    "n = int(input(\"Enter a range: \"))\n",
    "for i in range(n):\n",
    "    if i==10:\n",
    "        pass\n",
    "    print(i,end=\" \")\n",
    "print(i)"
   ]
  },
  {
   "cell_type": "code",
   "execution_count": 17,
   "metadata": {},
   "outputs": [
    {
     "name": "stdout",
     "output_type": "stream",
     "text": [
      "1.Read a Number\n",
      "2.Print Even or not?\n",
      "3.range of numbers\n",
      "4.Exit\n",
      "Enter your choice: 1\n",
      "Enter a number: 56\n",
      "Entered number is: 56\n",
      "1.Read a Number\n",
      "2.Print Even or not?\n",
      "3.range of numbers\n",
      "4.Exit\n",
      "Enter your choice: 3\n",
      "Enter a range: 6\n",
      "Numbers are: 1 2 3 4 5 \n",
      "1.Read a Number\n",
      "2.Print Even or not?\n",
      "3.range of numbers\n",
      "4.Exit\n",
      "Enter your choice: 9\n",
      "Invalid Option Try Again\n",
      "\n",
      "1.Read a Number\n",
      "2.Print Even or not?\n",
      "3.range of numbers\n",
      "4.Exit\n",
      "Enter your choice: 4\n",
      "Thank You....\n"
     ]
    }
   ],
   "source": [
    "while True:\n",
    "    print(\"1.Read a Number\\n2.Print Even or not?\\n\"\n",
    "          \"3.range of numbers\\n4.Exit\")\n",
    "    t = int(input(\"Enter your choice: \"))\n",
    "    if t == 1:\n",
    "        k = int(input(\"Enter a number: \"))\n",
    "        print(f\"Entered number is: {k}\")\n",
    "    elif t == 4:\n",
    "        print(\"Thank You....\")\n",
    "        break\n",
    "    elif t == 2:\n",
    "        h = int(input(\"Enter a number to Check: \"))\n",
    "        if h%2==0:\n",
    "            print(f\"Entered number {h} is Even\")\n",
    "        else:\n",
    "            print(f\"Entered number {h} is Odd\")\n",
    "    elif t == 3:\n",
    "        b = int(input(\"Enter a range: \"))\n",
    "        print(\"Numbers are: \",end=\"\")\n",
    "        for i in range(1,b):\n",
    "            print(i,end=\" \")\n",
    "        print()\n",
    "    else:\n",
    "        print(\"Invalid Option Try Again\\n\")"
   ]
  },
  {
   "cell_type": "code",
   "execution_count": null,
   "metadata": {},
   "outputs": [],
   "source": []
  }
 ],
 "metadata": {
  "kernelspec": {
   "display_name": "Python 3",
   "language": "python",
   "name": "python3"
  },
  "language_info": {
   "codemirror_mode": {
    "name": "ipython",
    "version": 3
   },
   "file_extension": ".py",
   "mimetype": "text/x-python",
   "name": "python",
   "nbconvert_exporter": "python",
   "pygments_lexer": "ipython3",
   "version": "3.8.5"
  }
 },
 "nbformat": 4,
 "nbformat_minor": 4
}
