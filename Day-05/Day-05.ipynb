{
 "cells": [
  {
   "cell_type": "markdown",
   "metadata": {},
   "source": [
    "## Nested Loop or Inner Loop\n",
    "    - Loop within a Loop\n",
    "    "
   ]
  },
  {
   "cell_type": "code",
   "execution_count": 4,
   "metadata": {},
   "outputs": [
    {
     "name": "stdout",
     "output_type": "stream",
     "text": [
      "Enter a range: 5\n",
      "00 01 02 03 04 \n",
      "10 11 12 13 14 \n",
      "20 21 22 23 24 \n",
      "30 31 32 33 34 \n",
      "40 41 42 43 44 \n"
     ]
    }
   ],
   "source": [
    "n = int(input(\"Enter a range: \"))\n",
    "for i in range(n):\n",
    "    for j in range(n):\n",
    "        print(f\"{i}{j}\",end=\" \")\n",
    "    print()"
   ]
  },
  {
   "cell_type": "markdown",
   "metadata": {},
   "source": [
    "```\n",
    "Input-1:\n",
    "========\n",
    "    4589658\n",
    "Output-1:\n",
    "========\n",
    "    Given number is: 4589658\n",
    "    Reverse of a number is: 8569854\n",
    "    Even numbers are: 4 8 6 8\n",
    "    Odd numbers are: 5 9 5\n",
    "    Even number sum is: 26\n",
    "    Odd number sum is: 19\n",
    "    Even numbers count is: 4\n",
    "    Odd numbers count is: 3\n",
    "```"
   ]
  },
  {
   "cell_type": "code",
   "execution_count": 8,
   "metadata": {},
   "outputs": [
    {
     "name": "stdout",
     "output_type": "stream",
     "text": [
      "1235\n",
      "Given number is: 1235\n",
      "Reverse of a number is: 5321\n",
      "Even numbers are: 2 \n",
      "Odd Numbers are: 1 3 5 \n",
      "Even numbers sum is: 2\n",
      "Odd numbers sum is: 9\n",
      "Even numbers count is: 1\n",
      "Odd numbers count is: 3\n"
     ]
    }
   ],
   "source": [
    "n = int(input())\n",
    "r,ec,oc,es,osd = 0,0,0,0,0\n",
    "print(f\"Given number is: {n}\")\n",
    "while n!=0:\n",
    "    r = r*10+n%10\n",
    "    n //=10\n",
    "h = b = r\n",
    "print(f\"Reverse of a number is: {r}\")\n",
    "print(\"Even numbers are: \",end=\"\")\n",
    "while h!=0:\n",
    "    if (h%10)%2==0:\n",
    "        print(h%10,end=\" \")\n",
    "        ec+=1\n",
    "        es+=h%10\n",
    "    h//=10\n",
    "print(\"\\nOdd Numbers are: \",end=\"\")\n",
    "while b!=0:\n",
    "    if (b%10)%2!=0:\n",
    "        print(b%10,end=\" \")\n",
    "        oc+=1\n",
    "        osd+=b%10\n",
    "    b//=10\n",
    "print(f\"\\nEven numbers sum is: {es}\")\n",
    "print(f\"Odd numbers sum is: {osd}\")\n",
    "print(f\"Even numbers count is: {ec}\")\n",
    "print(f\"Odd numbers count is: {oc}\")"
   ]
  },
  {
   "cell_type": "code",
   "execution_count": 9,
   "metadata": {},
   "outputs": [
    {
     "name": "stdout",
     "output_type": "stream",
     "text": [
      "Enter a character: A\n",
      "ASCII Value of A Character is: 65\n"
     ]
    }
   ],
   "source": [
    "n = input(\"Enter a character: \")\n",
    "print(f\"ASCII Value of {n} Character is: {ord(n)}\")"
   ]
  },
  {
   "cell_type": "code",
   "execution_count": 12,
   "metadata": {},
   "outputs": [
    {
     "name": "stdout",
     "output_type": "stream",
     "text": [
      "Enter a value: 122\n",
      "Character for ASCII value of 122 is: z\n"
     ]
    }
   ],
   "source": [
    "m = int(input(\"Enter a value: \"))\n",
    "print(f\"Character for ASCII value of {m} is: {chr(m)}\")"
   ]
  },
  {
   "cell_type": "code",
   "execution_count": 13,
   "metadata": {},
   "outputs": [
    {
     "name": "stdout",
     "output_type": "stream",
     "text": [
      "1 => \u0001\t2 => \u0002\t3 => \u0003\t4 => \u0004\t5 => \u0005\t6 => \u0006\t7 => \u0007\t8 => \b\t9 => \t\t10 => \n",
      "\t11 => \u000b",
      "\t12 => \f",
      "\t13 => \r",
      "\t14 => \u000e\t15 => \u000f\t16 => \u0010\t17 => \u0011\t18 => \u0012\t19 => \u0013\t20 => \u0014\t21 => \u0015\t22 => \u0016\t23 => \u0017\t24 => \u0018\t25 => \u0019\t26 => \u001a\t27 => \u001b\t28 => \u001c",
      "\t29 => \u001d",
      "\t30 => \u001e",
      "\t31 => \u001f\t32 =>  \t33 => !\t34 => \"\t35 => #\t36 => $\t37 => %\t38 => &\t39 => '\t40 => (\t41 => )\t42 => *\t43 => +\t44 => ,\t45 => -\t46 => .\t47 => /\t48 => 0\t49 => 1\t50 => 2\t51 => 3\t52 => 4\t53 => 5\t54 => 6\t55 => 7\t56 => 8\t57 => 9\t58 => :\t59 => ;\t60 => <\t61 => =\t62 => >\t63 => ?\t64 => @\t65 => A\t66 => B\t67 => C\t68 => D\t69 => E\t70 => F\t71 => G\t72 => H\t73 => I\t74 => J\t75 => K\t76 => L\t77 => M\t78 => N\t79 => O\t80 => P\t81 => Q\t82 => R\t83 => S\t84 => T\t85 => U\t86 => V\t87 => W\t88 => X\t89 => Y\t90 => Z\t91 => [\t92 => \\\t93 => ]\t94 => ^\t95 => _\t96 => `\t97 => a\t98 => b\t99 => c\t100 => d\t101 => e\t102 => f\t103 => g\t104 => h\t105 => i\t106 => j\t107 => k\t108 => l\t109 => m\t110 => n\t111 => o\t112 => p\t113 => q\t114 => r\t115 => s\t116 => t\t117 => u\t118 => v\t119 => w\t120 => x\t121 => y\t122 => z\t123 => {\t124 => |\t125 => }\t126 => ~\t127 => \t128 => \t129 => \t130 => \t131 => \t132 => \t133 => ",
      "\t134 => \t135 => \t136 => \t137 => \t138 => \t139 => \t140 => \t141 => \t142 => \t143 => \t144 => \t145 => \t146 => \t147 => \t148 => \t149 => \t150 => \t151 => \t152 => \t153 => \t154 => \t155 => \t156 => \t157 => \t158 => \t159 => \t160 =>  \t161 => ¡\t162 => ¢\t163 => £\t164 => ¤\t165 => ¥\t166 => ¦\t167 => §\t168 => ¨\t169 => ©\t170 => ª\t171 => «\t172 => ¬\t173 => ­\t174 => ®\t175 => ¯\t176 => °\t177 => ±\t178 => ²\t179 => ³\t180 => ´\t181 => µ\t182 => ¶\t183 => ·\t184 => ¸\t185 => ¹\t186 => º\t187 => »\t188 => ¼\t189 => ½\t190 => ¾\t191 => ¿\t192 => À\t193 => Á\t194 => Â\t195 => Ã\t196 => Ä\t197 => Å\t198 => Æ\t199 => Ç\t200 => È\t201 => É\t202 => Ê\t203 => Ë\t204 => Ì\t205 => Í\t206 => Î\t207 => Ï\t208 => Ð\t209 => Ñ\t210 => Ò\t211 => Ó\t212 => Ô\t213 => Õ\t214 => Ö\t215 => ×\t216 => Ø\t217 => Ù\t218 => Ú\t219 => Û\t220 => Ü\t221 => Ý\t222 => Þ\t223 => ß\t224 => à\t225 => á\t226 => â\t227 => ã\t228 => ä\t229 => å\t230 => æ\t231 => ç\t232 => è\t233 => é\t234 => ê\t235 => ë\t236 => ì\t237 => í\t238 => î\t239 => ï\t240 => ð\t241 => ñ\t242 => ò\t243 => ó\t244 => ô\t245 => õ\t246 => ö\t247 => ÷\t248 => ø\t249 => ù\t250 => ú\t251 => û\t252 => ü\t253 => ý\t254 => þ\t"
     ]
    }
   ],
   "source": [
    "for i in range(1,255):\n",
    "    print(f\"{i} => {chr(i)}\",end=\"\\t\")"
   ]
  },
  {
   "cell_type": "markdown",
   "metadata": {},
   "source": [
    "## Functions:\n",
    "    - Block of code to perform a specific task\n",
    "    Syntax:\n",
    "        def functionname(arguments):\n",
    "            //statements\n",
    "            return return_value\n",
    "    - 2 different types\n",
    "        => Builtin => Task is fixed by default\n",
    "        => User-Defined => User need to fix some task"
   ]
  },
  {
   "cell_type": "markdown",
   "metadata": {},
   "source": [
    "## User Defined Function Types:\n",
    "    - With return_type and with arguments\n",
    "    - With return_type and without arguments\n",
    "    - Without return_type and with arguments\n",
    "    - Without return_type and without arguments"
   ]
  },
  {
   "cell_type": "markdown",
   "metadata": {},
   "source": [
    "## With return_type and with arguments\n",
    "```\n",
    "Reading => Main\n",
    "Printing => Main\n",
    "Logic => Function\n",
    "```"
   ]
  },
  {
   "cell_type": "code",
   "execution_count": 17,
   "metadata": {},
   "outputs": [
    {
     "name": "stdout",
     "output_type": "stream",
     "text": [
      "Enter a number: 4588\n",
      "Given number is: 4588 and its reverse is: 8854\n"
     ]
    }
   ],
   "source": [
    "def rvdgts(b):\n",
    "    '''\n",
    "    Sample example for Reverse of a number by using Functions concept \n",
    "    '''\n",
    "    z = 0\n",
    "    while b!=0:\n",
    "        z = z*10+b%10\n",
    "        b//=10\n",
    "    return z\n",
    "\n",
    "n = int(input(\"Enter a number: \"))\n",
    "print(f\"Given number is: {n} and its reverse is: {rvdgts(n)}\")"
   ]
  },
  {
   "cell_type": "code",
   "execution_count": 18,
   "metadata": {},
   "outputs": [
    {
     "name": "stdout",
     "output_type": "stream",
     "text": [
      "\n",
      "    Sample example for Reverse of a number by using Functions concept \n",
      "    \n"
     ]
    }
   ],
   "source": [
    "print(rvdgts.__doc__)"
   ]
  },
  {
   "cell_type": "code",
   "execution_count": 19,
   "metadata": {},
   "outputs": [
    {
     "name": "stdout",
     "output_type": "stream",
     "text": [
      "print(value, ..., sep=' ', end='\\n', file=sys.stdout, flush=False)\n",
      "\n",
      "Prints the values to a stream, or to sys.stdout by default.\n",
      "Optional keyword arguments:\n",
      "file:  a file-like object (stream); defaults to the current sys.stdout.\n",
      "sep:   string inserted between values, default a space.\n",
      "end:   string appended after the last value, default a newline.\n",
      "flush: whether to forcibly flush the stream.\n"
     ]
    }
   ],
   "source": [
    "print(print.__doc__)"
   ]
  },
  {
   "cell_type": "code",
   "execution_count": 20,
   "metadata": {},
   "outputs": [
    {
     "name": "stdout",
     "output_type": "stream",
     "text": [
      "int([x]) -> integer\n",
      "int(x, base=10) -> integer\n",
      "\n",
      "Convert a number or string to an integer, or return 0 if no arguments\n",
      "are given.  If x is a number, return x.__int__().  For floating point\n",
      "numbers, this truncates towards zero.\n",
      "\n",
      "If x is not a number or if base is given, then x must be a string,\n",
      "bytes, or bytearray instance representing an integer literal in the\n",
      "given base.  The literal can be preceded by '+' or '-' and be surrounded\n",
      "by whitespace.  The base defaults to 10.  Valid bases are 0 and 2-36.\n",
      "Base 0 means to interpret the base from the string as an integer literal.\n",
      ">>> int('0b100', base=0)\n",
      "4\n"
     ]
    }
   ],
   "source": [
    "print(int.__doc__)"
   ]
  },
  {
   "cell_type": "markdown",
   "metadata": {},
   "source": [
    "## With return type and without arguments:\n",
    "```\n",
    "Reading => Function\n",
    "Printing => Main\n",
    "Logic => Function\n",
    "```"
   ]
  },
  {
   "cell_type": "code",
   "execution_count": 24,
   "metadata": {},
   "outputs": [
    {
     "name": "stdout",
     "output_type": "stream",
     "text": [
      "Enter a number: 4578\n",
      "Given number is: 4578\n",
      "Sum of Even numbers digits is: 12\n"
     ]
    }
   ],
   "source": [
    "def sumevdgts():\n",
    "    n = int(input(\"Enter a number: \"))\n",
    "    es = 0\n",
    "    print(f\"Given number is: {n}\")\n",
    "    while n!=0:\n",
    "        if (n%10)%2==0:\n",
    "            es+=n%10\n",
    "        n//=10\n",
    "    return es\n",
    "\n",
    "print(f\"Sum of Even numbers digits is: {sumevdgts()}\")"
   ]
  },
  {
   "cell_type": "markdown",
   "metadata": {},
   "source": [
    "## Without return type and with arguments:\n",
    "```\n",
    "Reading => Main\n",
    "Printing => Function\n",
    "Logic => Function\n",
    "```"
   ]
  },
  {
   "cell_type": "code",
   "execution_count": 27,
   "metadata": {},
   "outputs": [
    {
     "name": "stdout",
     "output_type": "stream",
     "text": [
      "Enter a number: 42587589663215555\n",
      "Given number is: 42587589663215555\n",
      "5 digit count is: 6\n"
     ]
    }
   ],
   "source": [
    "def ndvsble(k):\n",
    "    dc = 0\n",
    "    print(f\"Given number is: {k}\")\n",
    "    while k!=0:\n",
    "        if (k%10) == 5:\n",
    "            dc +=1\n",
    "        k//=10\n",
    "    print(f\"5 digit count is: {dc}\")\n",
    "    return\n",
    "\n",
    "n = int(input(\"Enter a number: \"))\n",
    "# print(ndvsble(n))\n",
    "ndvsble(n)"
   ]
  },
  {
   "cell_type": "markdown",
   "metadata": {},
   "source": [
    "## Without return type and without arguments:\n",
    "```\n",
    "Reading => Function\n",
    "Printing => Function\n",
    "Logic => Function\n",
    "```"
   ]
  },
  {
   "cell_type": "code",
   "execution_count": 30,
   "metadata": {},
   "outputs": [
    {
     "name": "stdout",
     "output_type": "stream",
     "text": [
      "Enter a number: 113\n",
      "Odd numbers count in 113 is: 3\n"
     ]
    }
   ],
   "source": [
    "def odnmdgt():\n",
    "    oc = 0\n",
    "    n = int(input(\"Enter a number: \"))\n",
    "    k = n\n",
    "    while n!=0:\n",
    "        if (n%10)%2!=0:\n",
    "            oc+=1\n",
    "        n//=10\n",
    "    print(f\"Odd numbers count in {k} is: {oc}\")\n",
    "    return\n",
    "\n",
    "odnmdgt()"
   ]
  },
  {
   "cell_type": "markdown",
   "metadata": {},
   "source": [
    "## Function Argument Types:\n",
    "    - Default Argument\n",
    "    - Keyword Argument\n",
    "    - Required or Positional Argument\n",
    "    - Varialbe-Length Argument"
   ]
  },
  {
   "cell_type": "markdown",
   "metadata": {},
   "source": [
    "## Default Argument:"
   ]
  },
  {
   "cell_type": "code",
   "execution_count": 31,
   "metadata": {},
   "outputs": [
    {
     "name": "stdout",
     "output_type": "stream",
     "text": [
      "Enter roll number: 26A91A0205\n",
      "Enter name: Suman\n",
      "Entered Roll Number is: 26A91A0205\n",
      "Entered Name is: Suman\n"
     ]
    }
   ],
   "source": [
    "def student(h,k):\n",
    "    print(f\"Entered Roll Number is: {h}\")\n",
    "    print(f\"Entered Name is: {k}\")\n",
    "    return\n",
    "\n",
    "r = input(\"Enter roll number: \")\n",
    "n = input(\"Enter name: \")\n",
    "student(r,n)"
   ]
  },
  {
   "cell_type": "code",
   "execution_count": 32,
   "metadata": {},
   "outputs": [
    {
     "name": "stdout",
     "output_type": "stream",
     "text": [
      "Enter roll number: 20A910201\n",
      "Enter name: Prasad\n",
      "Entered Roll Number is: 20A910201\n",
      "Entered Name is: Prasad\n",
      "Age is: 20\n"
     ]
    }
   ],
   "source": [
    "def student(h,k,d=20):\n",
    "    print(f\"Entered Roll Number is: {h}\")\n",
    "    print(f\"Entered Name is: {k}\")\n",
    "    print(f\"Age is: {d}\")\n",
    "    return\n",
    "\n",
    "r = input(\"Enter roll number: \")\n",
    "n = input(\"Enter name: \")\n",
    "student(r,n)"
   ]
  },
  {
   "cell_type": "code",
   "execution_count": 33,
   "metadata": {},
   "outputs": [
    {
     "name": "stdout",
     "output_type": "stream",
     "text": [
      "Enter roll number: 20A91A0206\n",
      "Enter name: Kalyani\n",
      "Enter Age: 19\n",
      "Entered Roll Number is: 20A91A0206\n",
      "Entered Name is: Kalyani\n",
      "Entered Age is: 19\n"
     ]
    }
   ],
   "source": [
    "def student(h,k,d=20):\n",
    "    print(f\"Entered Roll Number is: {h}\")\n",
    "    print(f\"Entered Name is: {k}\")\n",
    "    print(f\"Entered Age is: {d}\")\n",
    "    return\n",
    "\n",
    "r = input(\"Enter roll number: \")\n",
    "n = input(\"Enter name: \")\n",
    "j = int(input(\"Enter Age: \"))\n",
    "student(r,n,j)"
   ]
  },
  {
   "cell_type": "code",
   "execution_count": 34,
   "metadata": {},
   "outputs": [
    {
     "name": "stdout",
     "output_type": "stream",
     "text": [
      "Enter roll number: 21A91a0205\n",
      "Entered Roll Number is: 21A91a0205\n",
      "Entered Name is: Lalitha\n",
      "Entered Age is: 20\n"
     ]
    }
   ],
   "source": [
    "def student(h,k='Lalitha',d=20):\n",
    "    print(f\"Entered Roll Number is: {h}\")\n",
    "    print(f\"Entered Name is: {k}\")\n",
    "    print(f\"Entered Age is: {d}\")\n",
    "    return\n",
    "\n",
    "r = input(\"Enter roll number: \")\n",
    "student(r)"
   ]
  },
  {
   "cell_type": "code",
   "execution_count": 35,
   "metadata": {},
   "outputs": [
    {
     "ename": "SyntaxError",
     "evalue": "non-default argument follows default argument (<ipython-input-35-d51bb08d0c73>, line 1)",
     "output_type": "error",
     "traceback": [
      "\u001b[1;36m  File \u001b[1;32m\"<ipython-input-35-d51bb08d0c73>\"\u001b[1;36m, line \u001b[1;32m1\u001b[0m\n\u001b[1;33m    def student(h='20A91A0504',k,d=20):\u001b[0m\n\u001b[1;37m                ^\u001b[0m\n\u001b[1;31mSyntaxError\u001b[0m\u001b[1;31m:\u001b[0m non-default argument follows default argument\n"
     ]
    }
   ],
   "source": [
    "def student(h='20A91A0504',k,d=20):\n",
    "    print(f\"Entered Roll Number is: {h}\")\n",
    "    print(f\"Entered Name is: {k}\")\n",
    "    print(f\"Entered Age is: {d}\")\n",
    "    return\n",
    "\n",
    "r = input(\"Enter roll number: \")\n",
    "student(r)"
   ]
  },
  {
   "cell_type": "code",
   "execution_count": 36,
   "metadata": {},
   "outputs": [
    {
     "name": "stdout",
     "output_type": "stream",
     "text": [
      "Entered Roll Number is: 20A91A0504\n",
      "Entered Name is: Manoj\n",
      "Entered Age is: 20\n"
     ]
    }
   ],
   "source": [
    "def student(h='20A91A0504',k='Manoj',d=20):\n",
    "    print(f\"Entered Roll Number is: {h}\")\n",
    "    print(f\"Entered Name is: {k}\")\n",
    "    print(f\"Entered Age is: {d}\")\n",
    "    return\n",
    "\n",
    "student()"
   ]
  },
  {
   "cell_type": "code",
   "execution_count": 37,
   "metadata": {},
   "outputs": [
    {
     "ename": "SyntaxError",
     "evalue": "non-default argument follows default argument (<ipython-input-37-0344a9ef2171>, line 1)",
     "output_type": "error",
     "traceback": [
      "\u001b[1;36m  File \u001b[1;32m\"<ipython-input-37-0344a9ef2171>\"\u001b[1;36m, line \u001b[1;32m1\u001b[0m\n\u001b[1;33m    def student(h='20A91A0504',k='Manoj',d):\u001b[0m\n\u001b[1;37m                ^\u001b[0m\n\u001b[1;31mSyntaxError\u001b[0m\u001b[1;31m:\u001b[0m non-default argument follows default argument\n"
     ]
    }
   ],
   "source": [
    "def student(h='20A91A0504',k='Manoj',d):\n",
    "    print(f\"Entered Roll Number is: {h}\")\n",
    "    print(f\"Entered Name is: {k}\")\n",
    "    print(f\"Entered Age is: {d}\")\n",
    "    return\n",
    "\n",
    "student()"
   ]
  },
  {
   "cell_type": "markdown",
   "metadata": {},
   "source": [
    "## Required or Positional Argument: "
   ]
  },
  {
   "cell_type": "code",
   "execution_count": 38,
   "metadata": {},
   "outputs": [
    {
     "name": "stdout",
     "output_type": "stream",
     "text": [
      "Enter Id: ER56\n",
      "Enter Name: Eswar\n"
     ]
    },
    {
     "ename": "TypeError",
     "evalue": "employee() missing 1 required positional argument: 't'",
     "output_type": "error",
     "traceback": [
      "\u001b[1;31m----------------------------------------------------------\u001b[0m",
      "\u001b[1;31mTypeError\u001b[0m                Traceback (most recent call last)",
      "\u001b[1;32m<ipython-input-38-fa6e21367838>\u001b[0m in \u001b[0;36m<module>\u001b[1;34m\u001b[0m\n\u001b[0;32m      7\u001b[0m \u001b[0med\u001b[0m \u001b[1;33m=\u001b[0m \u001b[0minput\u001b[0m\u001b[1;33m(\u001b[0m\u001b[1;34m\"Enter Id: \"\u001b[0m\u001b[1;33m)\u001b[0m\u001b[1;33m\u001b[0m\u001b[1;33m\u001b[0m\u001b[0m\n\u001b[0;32m      8\u001b[0m \u001b[0mename\u001b[0m \u001b[1;33m=\u001b[0m \u001b[0minput\u001b[0m\u001b[1;33m(\u001b[0m\u001b[1;34m\"Enter Name: \"\u001b[0m\u001b[1;33m)\u001b[0m\u001b[1;33m\u001b[0m\u001b[1;33m\u001b[0m\u001b[0m\n\u001b[1;32m----> 9\u001b[1;33m \u001b[0memployee\u001b[0m\u001b[1;33m(\u001b[0m\u001b[0med\u001b[0m\u001b[1;33m,\u001b[0m\u001b[0mename\u001b[0m\u001b[1;33m)\u001b[0m\u001b[1;33m\u001b[0m\u001b[1;33m\u001b[0m\u001b[0m\n\u001b[0m",
      "\u001b[1;31mTypeError\u001b[0m: employee() missing 1 required positional argument: 't'"
     ]
    }
   ],
   "source": [
    "def employee(e,n,t):\n",
    "    print(f\"Entered Employee Id is: {e}\")\n",
    "    print(f\"Entered Employee Name is: {n}\")\n",
    "    print(f\"Entered Employee Age is: {t}\")\n",
    "    return\n",
    "\n",
    "ed = input(\"Enter Id: \")\n",
    "ename = input(\"Enter Name: \")\n",
    "employee(ed,ename)"
   ]
  },
  {
   "cell_type": "code",
   "execution_count": 39,
   "metadata": {},
   "outputs": [
    {
     "name": "stdout",
     "output_type": "stream",
     "text": [
      "Enter Id: RT67\n",
      "Enter Name: Kavya\n",
      "Entered Employee Id is: RT67\n",
      "Entered Employee Name is: Kavya\n",
      "Entered Employee Age is: 45\n"
     ]
    }
   ],
   "source": [
    "def employee(e,n,t=45):\n",
    "    print(f\"Entered Employee Id is: {e}\")\n",
    "    print(f\"Entered Employee Name is: {n}\")\n",
    "    print(f\"Entered Employee Age is: {t}\")\n",
    "    return\n",
    "\n",
    "ed = input(\"Enter Id: \")\n",
    "ename = input(\"Enter Name: \")\n",
    "employee(ed,ename)"
   ]
  },
  {
   "cell_type": "code",
   "execution_count": 40,
   "metadata": {},
   "outputs": [
    {
     "name": "stdout",
     "output_type": "stream",
     "text": [
      "Enter Id: TY67\n",
      "Enter Name: Girisha\n",
      "Enter age: 26\n",
      "Enter Salary: 30500\n"
     ]
    },
    {
     "ename": "TypeError",
     "evalue": "employee() takes 3 positional arguments but 4 were given",
     "output_type": "error",
     "traceback": [
      "\u001b[1;31m----------------------------------------------------------\u001b[0m",
      "\u001b[1;31mTypeError\u001b[0m                Traceback (most recent call last)",
      "\u001b[1;32m<ipython-input-40-c84c261fe72e>\u001b[0m in \u001b[0;36m<module>\u001b[1;34m\u001b[0m\n\u001b[0;32m      9\u001b[0m \u001b[0meg\u001b[0m \u001b[1;33m=\u001b[0m \u001b[0mint\u001b[0m\u001b[1;33m(\u001b[0m\u001b[0minput\u001b[0m\u001b[1;33m(\u001b[0m\u001b[1;34m\"Enter age: \"\u001b[0m\u001b[1;33m)\u001b[0m\u001b[1;33m)\u001b[0m\u001b[1;33m\u001b[0m\u001b[1;33m\u001b[0m\u001b[0m\n\u001b[0;32m     10\u001b[0m \u001b[0mesa\u001b[0m \u001b[1;33m=\u001b[0m \u001b[0mint\u001b[0m\u001b[1;33m(\u001b[0m\u001b[0minput\u001b[0m\u001b[1;33m(\u001b[0m\u001b[1;34m\"Enter Salary: \"\u001b[0m\u001b[1;33m)\u001b[0m\u001b[1;33m)\u001b[0m\u001b[1;33m\u001b[0m\u001b[1;33m\u001b[0m\u001b[0m\n\u001b[1;32m---> 11\u001b[1;33m \u001b[0memployee\u001b[0m\u001b[1;33m(\u001b[0m\u001b[0med\u001b[0m\u001b[1;33m,\u001b[0m\u001b[0mename\u001b[0m\u001b[1;33m,\u001b[0m\u001b[0meg\u001b[0m\u001b[1;33m,\u001b[0m\u001b[0mesa\u001b[0m\u001b[1;33m)\u001b[0m\u001b[1;33m\u001b[0m\u001b[1;33m\u001b[0m\u001b[0m\n\u001b[0m",
      "\u001b[1;31mTypeError\u001b[0m: employee() takes 3 positional arguments but 4 were given"
     ]
    }
   ],
   "source": [
    "def employee(e,n,t):\n",
    "    print(f\"Entered Employee Id is: {e}\")\n",
    "    print(f\"Entered Employee Name is: {n}\")\n",
    "    print(f\"Entered Employee Age is: {t}\")\n",
    "    return\n",
    "\n",
    "ed = input(\"Enter Id: \")\n",
    "ename = input(\"Enter Name: \")\n",
    "eg = int(input(\"Enter age: \"))\n",
    "esa = int(input(\"Enter Salary: \"))\n",
    "employee(ed,ename,eg,esa)"
   ]
  },
  {
   "cell_type": "markdown",
   "metadata": {},
   "source": [
    "## Keyword Argument:"
   ]
  },
  {
   "cell_type": "code",
   "execution_count": 41,
   "metadata": {},
   "outputs": [
    {
     "name": "stdout",
     "output_type": "stream",
     "text": [
      "Enter Id: E56\n",
      "Enter Name: Kalyan\n",
      "Enter Age: 19\n",
      "========= Student Details ==========\n",
      "Name: Kalyan\n",
      "Age: 19\n",
      "Id: E56\n"
     ]
    }
   ],
   "source": [
    "def stdntls(b,a,c):\n",
    "    print(\"========= Student Details ==========\")\n",
    "    print(f\"Name: {b}\")\n",
    "    print(f\"Age: {c}\")\n",
    "    print(f\"Id: {a}\")\n",
    "    return\n",
    "\n",
    "sd = input(\"Enter Id: \")\n",
    "sn = input(\"Enter Name: \")\n",
    "sa = int(input(\"Enter Age: \"))\n",
    "stdntls(a=sd,c=sa,b=sn)"
   ]
  },
  {
   "cell_type": "code",
   "execution_count": 42,
   "metadata": {},
   "outputs": [
    {
     "name": "stdout",
     "output_type": "stream",
     "text": [
      "Enter Id: GU67\n",
      "Enter Name: Rajesh\n",
      "Enter Age: 20\n"
     ]
    },
    {
     "ename": "TypeError",
     "evalue": "stdntls() missing 1 required positional argument: 'e'",
     "output_type": "error",
     "traceback": [
      "\u001b[1;31m----------------------------------------------------------\u001b[0m",
      "\u001b[1;31mTypeError\u001b[0m                Traceback (most recent call last)",
      "\u001b[1;32m<ipython-input-42-29a2ff5c669b>\u001b[0m in \u001b[0;36m<module>\u001b[1;34m\u001b[0m\n\u001b[0;32m     10\u001b[0m \u001b[0msn\u001b[0m \u001b[1;33m=\u001b[0m \u001b[0minput\u001b[0m\u001b[1;33m(\u001b[0m\u001b[1;34m\"Enter Name: \"\u001b[0m\u001b[1;33m)\u001b[0m\u001b[1;33m\u001b[0m\u001b[1;33m\u001b[0m\u001b[0m\n\u001b[0;32m     11\u001b[0m \u001b[0msa\u001b[0m \u001b[1;33m=\u001b[0m \u001b[0mint\u001b[0m\u001b[1;33m(\u001b[0m\u001b[0minput\u001b[0m\u001b[1;33m(\u001b[0m\u001b[1;34m\"Enter Age: \"\u001b[0m\u001b[1;33m)\u001b[0m\u001b[1;33m)\u001b[0m\u001b[1;33m\u001b[0m\u001b[1;33m\u001b[0m\u001b[0m\n\u001b[1;32m---> 12\u001b[1;33m \u001b[0mstdntls\u001b[0m\u001b[1;33m(\u001b[0m\u001b[0ma\u001b[0m\u001b[1;33m=\u001b[0m\u001b[0msd\u001b[0m\u001b[1;33m,\u001b[0m\u001b[0mc\u001b[0m\u001b[1;33m=\u001b[0m\u001b[0msa\u001b[0m\u001b[1;33m,\u001b[0m\u001b[0mb\u001b[0m\u001b[1;33m=\u001b[0m\u001b[0msn\u001b[0m\u001b[1;33m)\u001b[0m\u001b[1;33m\u001b[0m\u001b[1;33m\u001b[0m\u001b[0m\n\u001b[0m",
      "\u001b[1;31mTypeError\u001b[0m: stdntls() missing 1 required positional argument: 'e'"
     ]
    }
   ],
   "source": [
    "def stdntls(e,b,a,c):\n",
    "    print(\"========= Student Details ==========\")\n",
    "    print(f\"Name: {b}\")\n",
    "    print(f\"Age: {c}\")\n",
    "    print(f\"Id: {a}\")\n",
    "    print(f\"branch: {e}\")\n",
    "    return\n",
    "\n",
    "sd = input(\"Enter Id: \")\n",
    "sn = input(\"Enter Name: \")\n",
    "sa = int(input(\"Enter Age: \"))\n",
    "stdntls(a=sd,c=sa,b=sn)"
   ]
  },
  {
   "cell_type": "code",
   "execution_count": 43,
   "metadata": {},
   "outputs": [
    {
     "ename": "SyntaxError",
     "evalue": "non-default argument follows default argument (<ipython-input-43-5e5ddf03121c>, line 1)",
     "output_type": "error",
     "traceback": [
      "\u001b[1;36m  File \u001b[1;32m\"<ipython-input-43-5e5ddf03121c>\"\u001b[1;36m, line \u001b[1;32m1\u001b[0m\n\u001b[1;33m    def stdntls(e=\"EEE\",b,a,c):\u001b[0m\n\u001b[1;37m                ^\u001b[0m\n\u001b[1;31mSyntaxError\u001b[0m\u001b[1;31m:\u001b[0m non-default argument follows default argument\n"
     ]
    }
   ],
   "source": [
    "def stdntls(e=\"EEE\",b,a,c):\n",
    "    print(\"========= Student Details ==========\")\n",
    "    print(f\"Name: {b}\")\n",
    "    print(f\"Age: {c}\")\n",
    "    print(f\"Id: {a}\")\n",
    "    print(f\"branch: {e}\")\n",
    "    return\n",
    "\n",
    "sd = input(\"Enter Id: \")\n",
    "sn = input(\"Enter Name: \")\n",
    "sa = int(input(\"Enter Age: \"))\n",
    "stdntls(a=sd,c=sa,b=sn)"
   ]
  },
  {
   "cell_type": "code",
   "execution_count": 44,
   "metadata": {},
   "outputs": [
    {
     "name": "stdout",
     "output_type": "stream",
     "text": [
      "Enter Id: YK456\n",
      "Enter Name: Naresh\n",
      "Enter Age: 20\n",
      "========= Student Details ==========\n",
      "Name: Naresh\n",
      "Age: 20\n",
      "Id: YK456\n",
      "branch: EEE\n"
     ]
    }
   ],
   "source": [
    "def stdntls(b,a,c,e=\"EEE\"):\n",
    "    print(\"========= Student Details ==========\")\n",
    "    print(f\"Name: {b}\")\n",
    "    print(f\"Age: {c}\")\n",
    "    print(f\"Id: {a}\")\n",
    "    print(f\"branch: {e}\")\n",
    "    return\n",
    "\n",
    "sd = input(\"Enter Id: \")\n",
    "sn = input(\"Enter Name: \")\n",
    "sa = int(input(\"Enter Age: \"))\n",
    "stdntls(a=sd,c=sa,b=sn)"
   ]
  },
  {
   "cell_type": "code",
   "execution_count": 45,
   "metadata": {},
   "outputs": [
    {
     "ename": "SyntaxError",
     "evalue": "positional argument follows keyword argument (<ipython-input-45-4c88e7477599>, line 13)",
     "output_type": "error",
     "traceback": [
      "\u001b[1;36m  File \u001b[1;32m\"<ipython-input-45-4c88e7477599>\"\u001b[1;36m, line \u001b[1;32m13\u001b[0m\n\u001b[1;33m    stdntls(a=sd,c=sa,b=sn,sb)\u001b[0m\n\u001b[1;37m                           ^\u001b[0m\n\u001b[1;31mSyntaxError\u001b[0m\u001b[1;31m:\u001b[0m positional argument follows keyword argument\n"
     ]
    }
   ],
   "source": [
    "def stdntls(b,a,c,e=\"EEE\"):\n",
    "    print(\"========= Student Details ==========\")\n",
    "    print(f\"Name: {b}\")\n",
    "    print(f\"Age: {c}\")\n",
    "    print(f\"Id: {a}\")\n",
    "    print(f\"branch: {e}\")\n",
    "    return\n",
    "\n",
    "sd = input(\"Enter Id: \")\n",
    "sn = input(\"Enter Name: \")\n",
    "sa = int(input(\"Enter Age: \"))\n",
    "sb = input(\"Enter Branch: \")\n",
    "stdntls(a=sd,c=sa,b=sn,sb)"
   ]
  },
  {
   "cell_type": "code",
   "execution_count": 46,
   "metadata": {},
   "outputs": [
    {
     "name": "stdout",
     "output_type": "stream",
     "text": [
      "Enter Id: HEG56\n",
      "Enter Name: tilak\n",
      "Enter Age: 22\n",
      "Enter Branch: cse\n"
     ]
    },
    {
     "ename": "TypeError",
     "evalue": "stdntls() got an unexpected keyword argument 'h'",
     "output_type": "error",
     "traceback": [
      "\u001b[1;31m----------------------------------------------------------\u001b[0m",
      "\u001b[1;31mTypeError\u001b[0m                Traceback (most recent call last)",
      "\u001b[1;32m<ipython-input-46-3b689046b99f>\u001b[0m in \u001b[0;36m<module>\u001b[1;34m\u001b[0m\n\u001b[0;32m     11\u001b[0m \u001b[0msa\u001b[0m \u001b[1;33m=\u001b[0m \u001b[0mint\u001b[0m\u001b[1;33m(\u001b[0m\u001b[0minput\u001b[0m\u001b[1;33m(\u001b[0m\u001b[1;34m\"Enter Age: \"\u001b[0m\u001b[1;33m)\u001b[0m\u001b[1;33m)\u001b[0m\u001b[1;33m\u001b[0m\u001b[1;33m\u001b[0m\u001b[0m\n\u001b[0;32m     12\u001b[0m \u001b[0msb\u001b[0m \u001b[1;33m=\u001b[0m \u001b[0minput\u001b[0m\u001b[1;33m(\u001b[0m\u001b[1;34m\"Enter Branch: \"\u001b[0m\u001b[1;33m)\u001b[0m\u001b[1;33m\u001b[0m\u001b[1;33m\u001b[0m\u001b[0m\n\u001b[1;32m---> 13\u001b[1;33m \u001b[0mstdntls\u001b[0m\u001b[1;33m(\u001b[0m\u001b[0ma\u001b[0m\u001b[1;33m=\u001b[0m\u001b[0msd\u001b[0m\u001b[1;33m,\u001b[0m\u001b[0mc\u001b[0m\u001b[1;33m=\u001b[0m\u001b[0msa\u001b[0m\u001b[1;33m,\u001b[0m\u001b[0mb\u001b[0m\u001b[1;33m=\u001b[0m\u001b[0msn\u001b[0m\u001b[1;33m,\u001b[0m\u001b[0mh\u001b[0m\u001b[1;33m=\u001b[0m\u001b[0msb\u001b[0m\u001b[1;33m)\u001b[0m\u001b[1;33m\u001b[0m\u001b[1;33m\u001b[0m\u001b[0m\n\u001b[0m",
      "\u001b[1;31mTypeError\u001b[0m: stdntls() got an unexpected keyword argument 'h'"
     ]
    }
   ],
   "source": [
    "def stdntls(b,a,c,e=\"EEE\"):\n",
    "    print(\"========= Student Details ==========\")\n",
    "    print(f\"Name: {b}\")\n",
    "    print(f\"Age: {c}\")\n",
    "    print(f\"Id: {a}\")\n",
    "    print(f\"branch: {e}\")\n",
    "    return\n",
    "\n",
    "sd = input(\"Enter Id: \")\n",
    "sn = input(\"Enter Name: \")\n",
    "sa = int(input(\"Enter Age: \"))\n",
    "sb = input(\"Enter Branch: \")\n",
    "stdntls(a=sd,c=sa,b=sn,h=sb)"
   ]
  },
  {
   "cell_type": "markdown",
   "metadata": {},
   "source": [
    "## Variable Length Argument:\n",
    "    - Arbitary Keyword Argument\n",
    "    - Arbitary Positional Argument"
   ]
  },
  {
   "cell_type": "code",
   "execution_count": 1,
   "metadata": {},
   "outputs": [
    {
     "ename": "TypeError",
     "evalue": "fgy() takes 1 positional argument but 6 were given",
     "output_type": "error",
     "traceback": [
      "\u001b[1;31m----------------------------------------------------------\u001b[0m",
      "\u001b[1;31mTypeError\u001b[0m                Traceback (most recent call last)",
      "\u001b[1;32m<ipython-input-1-4a0e5493a167>\u001b[0m in \u001b[0;36m<module>\u001b[1;34m\u001b[0m\n\u001b[0;32m      3\u001b[0m     \u001b[1;32mreturn\u001b[0m\u001b[1;33m\u001b[0m\u001b[1;33m\u001b[0m\u001b[0m\n\u001b[0;32m      4\u001b[0m \u001b[1;33m\u001b[0m\u001b[0m\n\u001b[1;32m----> 5\u001b[1;33m \u001b[0mfgy\u001b[0m\u001b[1;33m(\u001b[0m\u001b[1;36m12\u001b[0m\u001b[1;33m,\u001b[0m\u001b[1;34m'Prasad'\u001b[0m\u001b[1;33m,\u001b[0m\u001b[1;32mFalse\u001b[0m\u001b[1;33m,\u001b[0m\u001b[1;36m45.0151\u001b[0m\u001b[1;33m,\u001b[0m\u001b[1;36m5\u001b[0m\u001b[1;33m+\u001b[0m\u001b[1;36m6j\u001b[0m\u001b[1;33m,\u001b[0m\u001b[1;34m'4'\u001b[0m\u001b[1;33m)\u001b[0m\u001b[1;33m\u001b[0m\u001b[1;33m\u001b[0m\u001b[0m\n\u001b[0m",
      "\u001b[1;31mTypeError\u001b[0m: fgy() takes 1 positional argument but 6 were given"
     ]
    }
   ],
   "source": [
    "def fgy(h):\n",
    "    print(h,type(h))\n",
    "    return\n",
    "\n",
    "fgy(12,'Prasad',False,45.0151,5+6j,'4')"
   ]
  },
  {
   "cell_type": "code",
   "execution_count": 2,
   "metadata": {},
   "outputs": [
    {
     "name": "stdout",
     "output_type": "stream",
     "text": [
      "(12, 'Prasad', False, 45.0151, (5+6j), '4') <class 'tuple'>\n"
     ]
    }
   ],
   "source": [
    "def fgy(*h):\n",
    "    print(h,type(h))\n",
    "    return\n",
    "\n",
    "fgy(12,'Prasad',False,45.0151,5+6j,'4')"
   ]
  },
  {
   "cell_type": "code",
   "execution_count": 3,
   "metadata": {},
   "outputs": [
    {
     "name": "stdout",
     "output_type": "stream",
     "text": [
      "12 <class 'int'>\n",
      "('Prasad', False, 45.0151, (5+6j), '4') <class 'tuple'>\n"
     ]
    }
   ],
   "source": [
    "def fgy(b,*h):\n",
    "    print(b,type(b))\n",
    "    print(h,type(h))\n",
    "    return\n",
    "\n",
    "fgy(12,'Prasad',False,45.0151,5+6j,'4')"
   ]
  },
  {
   "cell_type": "code",
   "execution_count": 4,
   "metadata": {},
   "outputs": [
    {
     "name": "stdout",
     "output_type": "stream",
     "text": [
      "12 <class 'int'>\n",
      "('Prasad', False, 45.0151, (5+6j), '4') <class 'tuple'>\n",
      "25 <class 'int'>\n"
     ]
    }
   ],
   "source": [
    "def fgy(b,*h,n=25):\n",
    "    print(b,type(b))\n",
    "    print(h,type(h))\n",
    "    print(n,type(n))\n",
    "    return\n",
    "\n",
    "fgy(12,'Prasad',False,45.0151,5+6j,'4')"
   ]
  },
  {
   "cell_type": "code",
   "execution_count": 5,
   "metadata": {},
   "outputs": [
    {
     "name": "stdout",
     "output_type": "stream",
     "text": [
      "12 <class 'int'>\n",
      "(False, 45.0151, (5+6j), '4') <class 'tuple'>\n",
      "Prasad <class 'str'>\n"
     ]
    }
   ],
   "source": [
    "def fgy(b,n=30,*h):\n",
    "    print(b,type(b))\n",
    "    print(h,type(h))\n",
    "    print(n,type(n))\n",
    "    return\n",
    "\n",
    "fgy(12,'Prasad',False,45.0151,5+6j,'4')"
   ]
  },
  {
   "cell_type": "code",
   "execution_count": 6,
   "metadata": {},
   "outputs": [
    {
     "ename": "SyntaxError",
     "evalue": "non-default argument follows default argument (<ipython-input-6-f85dc373fc37>, line 1)",
     "output_type": "error",
     "traceback": [
      "\u001b[1;36m  File \u001b[1;32m\"<ipython-input-6-f85dc373fc37>\"\u001b[1;36m, line \u001b[1;32m1\u001b[0m\n\u001b[1;33m    def fgy(n=55,b,*h):\u001b[0m\n\u001b[1;37m            ^\u001b[0m\n\u001b[1;31mSyntaxError\u001b[0m\u001b[1;31m:\u001b[0m non-default argument follows default argument\n"
     ]
    }
   ],
   "source": [
    "def fgy(n=55,b,*h):\n",
    "    print(b,type(b))\n",
    "    print(h,type(h))\n",
    "    print(n,type(n))\n",
    "    return\n",
    "\n",
    "fgy(12,'Prasad',False,45.0151,5+6j,'4')"
   ]
  },
  {
   "cell_type": "code",
   "execution_count": 7,
   "metadata": {},
   "outputs": [
    {
     "name": "stdout",
     "output_type": "stream",
     "text": [
      "Prasad <class 'str'>\n",
      "(False, 45.0151, (5+6j), '4') <class 'tuple'>\n",
      "12 <class 'int'>\n"
     ]
    }
   ],
   "source": [
    "def fgy(n=30,b='45',*h):\n",
    "    print(b,type(b))\n",
    "    print(h,type(h))\n",
    "    print(n,type(n))\n",
    "    return\n",
    "\n",
    "fgy(12,'Prasad',False,45.0151,5+6j,'4')"
   ]
  },
  {
   "cell_type": "code",
   "execution_count": 8,
   "metadata": {},
   "outputs": [
    {
     "name": "stdout",
     "output_type": "stream",
     "text": [
      "12 <class 'int'>\n",
      "('Prasad', False, 45.0151, (5+6j), '4') <class 'tuple'>\n",
      "{'sno': 2, 'sname': 'kiran'} <class 'dict'>\n"
     ]
    }
   ],
   "source": [
    "def fgy(b,*h,**n):\n",
    "    print(b,type(b))\n",
    "    print(h,type(h))\n",
    "    print(n,type(n))\n",
    "    return\n",
    "\n",
    "fgy(12,'Prasad',False,45.0151,5+6j,'4',sno=2,sname='kiran')"
   ]
  },
  {
   "cell_type": "code",
   "execution_count": 12,
   "metadata": {},
   "outputs": [
    {
     "name": "stdout",
     "output_type": "stream",
     "text": [
      "12 <class 'int'>\n",
      "('Prasad', False, 45.0151, (5+6j), '4') <class 'tuple'>\n",
      "{'sno': 2, 'sname': 'kiran'} <class 'dict'>\n",
      "150 <class 'int'>\n"
     ]
    }
   ],
   "source": [
    "def fgy(b,*h,y=150,**n):\n",
    "    print(b,type(b))\n",
    "    print(h,type(h))\n",
    "    print(n,type(n))\n",
    "    print(y,type(y))\n",
    "    return\n",
    "\n",
    "fgy(12,'Prasad',False,45.0151,5+6j,'4',sno=2,sname='kiran')"
   ]
  },
  {
   "cell_type": "code",
   "execution_count": 13,
   "metadata": {},
   "outputs": [
    {
     "ename": "SyntaxError",
     "evalue": "positional argument follows keyword argument (<ipython-input-13-a2c3a44a0d7c>, line 8)",
     "output_type": "error",
     "traceback": [
      "\u001b[1;36m  File \u001b[1;32m\"<ipython-input-13-a2c3a44a0d7c>\"\u001b[1;36m, line \u001b[1;32m8\u001b[0m\n\u001b[1;33m    fgy(sal=250,12,'Prasad',False,45.0151,5+6j,'4',sno=2,sname='kiran')\u001b[0m\n\u001b[1;37m                ^\u001b[0m\n\u001b[1;31mSyntaxError\u001b[0m\u001b[1;31m:\u001b[0m positional argument follows keyword argument\n"
     ]
    }
   ],
   "source": [
    "def fgy(b,*h,y=150,**n):\n",
    "    print(b,type(b))\n",
    "    print(h,type(h))\n",
    "    print(n,type(n))\n",
    "    print(y,type(y))\n",
    "    return\n",
    "\n",
    "fgy(sal=250,12,'Prasad',False,45.0151,5+6j,'4',sno=2,sname='kiran')"
   ]
  },
  {
   "cell_type": "code",
   "execution_count": 14,
   "metadata": {},
   "outputs": [
    {
     "ename": "SyntaxError",
     "evalue": "positional argument follows keyword argument (<ipython-input-14-6f3f2f64a6d3>, line 8)",
     "output_type": "error",
     "traceback": [
      "\u001b[1;36m  File \u001b[1;32m\"<ipython-input-14-6f3f2f64a6d3>\"\u001b[1;36m, line \u001b[1;32m8\u001b[0m\n\u001b[1;33m    fgy(12,'Prasad',False,sal=487500,45.0151,5+6j,'4',sno=2,sname='kiran')\u001b[0m\n\u001b[1;37m                                     ^\u001b[0m\n\u001b[1;31mSyntaxError\u001b[0m\u001b[1;31m:\u001b[0m positional argument follows keyword argument\n"
     ]
    }
   ],
   "source": [
    "def fgy(b,*h,y=150,**n):\n",
    "    print(b,type(b))\n",
    "    print(h,type(h))\n",
    "    print(n,type(n))\n",
    "    print(y,type(y))\n",
    "    return\n",
    "\n",
    "fgy(12,'Prasad',False,sal=487500,45.0151,5+6j,'4',sno=2,sname='kiran')"
   ]
  },
  {
   "cell_type": "code",
   "execution_count": 16,
   "metadata": {},
   "outputs": [
    {
     "name": "stdout",
     "output_type": "stream",
     "text": [
      "(12, 'Prasad', False, 45.0151, (5+6j), '4') <class 'tuple'>\n",
      "{'sal': 487500, 'sno': 2, 'sname': 'kiran'} <class 'dict'>\n",
      "150 <class 'int'>\n"
     ]
    }
   ],
   "source": [
    "def fgy(*h,y=150,**n):\n",
    "    print(h,type(h))\n",
    "    print(n,type(n))\n",
    "    print(y,type(y))\n",
    "    return\n",
    "\n",
    "fgy(12,'Prasad',False,45.0151,5+6j,'4',sal=487500,sno=2,sname='kiran')"
   ]
  },
  {
   "cell_type": "code",
   "execution_count": 17,
   "metadata": {},
   "outputs": [
    {
     "name": "stdout",
     "output_type": "stream",
     "text": [
      "(12, 'Prasad', False, 45.0151, (5+6j), '4') <class 'tuple'>\n",
      "{'sal': 487500, 'sno': 2, 'sname': 'kiran'} <class 'dict'>\n"
     ]
    }
   ],
   "source": [
    "def fgy(*h,**n):\n",
    "    print(h,type(h))\n",
    "    print(n,type(n))\n",
    "    return\n",
    "\n",
    "fgy(12,'Prasad',False,45.0151,5+6j,'4',sal=487500,sno=2,sname='kiran')"
   ]
  },
  {
   "cell_type": "code",
   "execution_count": 18,
   "metadata": {},
   "outputs": [
    {
     "ename": "TypeError",
     "evalue": "bg() takes 0 positional arguments but 3 were given",
     "output_type": "error",
     "traceback": [
      "\u001b[1;31m----------------------------------------------------------\u001b[0m",
      "\u001b[1;31mTypeError\u001b[0m                Traceback (most recent call last)",
      "\u001b[1;32m<ipython-input-18-a3b7c645232d>\u001b[0m in \u001b[0;36m<module>\u001b[1;34m\u001b[0m\n\u001b[0;32m      3\u001b[0m     \u001b[1;32mreturn\u001b[0m\u001b[1;33m\u001b[0m\u001b[1;33m\u001b[0m\u001b[0m\n\u001b[0;32m      4\u001b[0m \u001b[1;33m\u001b[0m\u001b[0m\n\u001b[1;32m----> 5\u001b[1;33m \u001b[0mbg\u001b[0m\u001b[1;33m(\u001b[0m\u001b[1;36m45\u001b[0m\u001b[1;33m,\u001b[0m\u001b[1;36m895.051\u001b[0m\u001b[1;33m,\u001b[0m\u001b[1;32mFalse\u001b[0m\u001b[1;33m,\u001b[0m\u001b[0msno\u001b[0m\u001b[1;33m=\u001b[0m\u001b[1;36m5\u001b[0m\u001b[1;33m,\u001b[0m\u001b[0mname\u001b[0m\u001b[1;33m=\u001b[0m\u001b[1;34m'Lakshman'\u001b[0m\u001b[1;33m,\u001b[0m\u001b[0mage\u001b[0m\u001b[1;33m=\u001b[0m\u001b[1;36m50\u001b[0m\u001b[1;33m)\u001b[0m\u001b[1;33m\u001b[0m\u001b[1;33m\u001b[0m\u001b[0m\n\u001b[0m",
      "\u001b[1;31mTypeError\u001b[0m: bg() takes 0 positional arguments but 3 were given"
     ]
    }
   ],
   "source": [
    "def bg(**v):\n",
    "    print(v,type(v))\n",
    "    return\n",
    "\n",
    "bg(45,895.051,False,sno=5,name='Lakshman',age=50)"
   ]
  },
  {
   "cell_type": "code",
   "execution_count": 19,
   "metadata": {},
   "outputs": [
    {
     "name": "stdout",
     "output_type": "stream",
     "text": [
      "{'sno': 5, 'name': 'Lakshman', 'age': 50} <class 'dict'>\n"
     ]
    }
   ],
   "source": [
    "def bg(**v):\n",
    "    print(v,type(v))\n",
    "    return\n",
    "\n",
    "bg(sno=5,name='Lakshman',age=50)"
   ]
  },
  {
   "cell_type": "markdown",
   "metadata": {},
   "source": [
    "## Data Structures:\n",
    "    - To organize the data in order or unorder format\n",
    "    - list\n",
    "    - tuple\n",
    "    - set \n",
    "    - dictionary"
   ]
  },
  {
   "cell_type": "markdown",
   "metadata": {},
   "source": [
    "## List:\n",
    "    - It can be represented as [] and seperated with ,\n",
    "    - It stores all data type values\n",
    "    - It stores data in ordered format\n",
    "    - It allows duplicate values\n",
    "    - Slicing can be done because of index\n",
    "    - It can changes a value\n",
    "    - It can be typecasted as list()"
   ]
  },
  {
   "cell_type": "markdown",
   "metadata": {},
   "source": [
    "## Tuple:\n",
    "    - It can be represented as () and seperated with ,\n",
    "    - It stores all data type values\n",
    "    - It stores data in ordered format\n",
    "    - It allows duplicate values\n",
    "    - Slicing can be done because of index\n",
    "    - It can't changes a value\n",
    "    - It can be typecasted as tuple()"
   ]
  },
  {
   "cell_type": "markdown",
   "metadata": {},
   "source": [
    "## Set\n",
    "    - It can be represented as {} seperated with , and it should stores one value in it\n",
    "    - It stores all data type values\n",
    "    - It stores data in unordered format\n",
    "    - It doesn't allow duplicate values\n",
    "    - Slicing can't be done because of no index\n",
    "    - It can changes a value\n",
    "    - It can be typecasted as set()"
   ]
  },
  {
   "cell_type": "markdown",
   "metadata": {},
   "source": [
    "## Dictionary:\n",
    "    - It can be represented as {} by default it is a dictionary without any value in it\n",
    "    - It stores data in key and value pairs\n",
    "    - Keys doesnt allow duplicate but values can\n",
    "    - It can be typecasted as dict()\n",
    "    - It stores all data types\n",
    "    - It can changes a key or a value\n",
    "    - It stores key in ordered format"
   ]
  },
  {
   "cell_type": "markdown",
   "metadata": {},
   "source": [
    "## List"
   ]
  },
  {
   "cell_type": "code",
   "execution_count": 23,
   "metadata": {},
   "outputs": [
    {
     "name": "stdout",
     "output_type": "stream",
     "text": [
      "[] <class 'list'>\n"
     ]
    }
   ],
   "source": [
    "b = []\n",
    "print(b,type(b))"
   ]
  },
  {
   "cell_type": "code",
   "execution_count": 22,
   "metadata": {},
   "outputs": [
    {
     "name": "stdout",
     "output_type": "stream",
     "text": [
      "20 <class 'int'>\n"
     ]
    }
   ],
   "source": [
    "a = 20\n",
    "print(a,type(a))"
   ]
  },
  {
   "cell_type": "code",
   "execution_count": 24,
   "metadata": {},
   "outputs": [
    {
     "name": "stdout",
     "output_type": "stream",
     "text": [
      "[1, 2.03265, 'Kamala', False, None, (4+3j), '56', 1, 1, 1, 1] <class 'list'>\n"
     ]
    }
   ],
   "source": [
    "g = [1,2.03265,'Kamala',False,None,4+3j,'56',1,1,1,1]\n",
    "print(g,type(g))"
   ]
  },
  {
   "cell_type": "code",
   "execution_count": 27,
   "metadata": {},
   "outputs": [
    {
     "name": "stdout",
     "output_type": "stream",
     "text": [
      "1 <class 'int'>\n",
      "2.03265 <class 'float'>\n",
      "Kamala <class 'str'>\n",
      "False <class 'bool'>\n",
      "None <class 'NoneType'>\n",
      "(4+3j) <class 'complex'>\n",
      "56 <class 'str'>\n",
      "1 <class 'int'>\n",
      "1 <class 'int'>\n",
      "1 <class 'int'>\n",
      "1 <class 'int'>\n"
     ]
    }
   ],
   "source": [
    "for i in range(len(g)):\n",
    "    print(g[i],type(g[i]))"
   ]
  },
  {
   "cell_type": "code",
   "execution_count": 28,
   "metadata": {},
   "outputs": [
    {
     "name": "stdout",
     "output_type": "stream",
     "text": [
      "1 <class 'int'>\n",
      "2.03265 <class 'float'>\n",
      "Kamala <class 'str'>\n",
      "False <class 'bool'>\n",
      "None <class 'NoneType'>\n",
      "(4+3j) <class 'complex'>\n",
      "56 <class 'str'>\n",
      "1 <class 'int'>\n",
      "1 <class 'int'>\n",
      "1 <class 'int'>\n",
      "1 <class 'int'>\n"
     ]
    }
   ],
   "source": [
    "for i in g:\n",
    "    print(i,type(i))"
   ]
  },
  {
   "cell_type": "code",
   "execution_count": 30,
   "metadata": {},
   "outputs": [
    {
     "name": "stdout",
     "output_type": "stream",
     "text": [
      "[1, 2.03265, 'Kamala', False, None, (4+3j), '56', 1, 1, 1, 1]\n",
      "56\n",
      "1\n",
      "[1, 2.03265, 'Kamala', False, None, (4+3j), '56', 1, 1, 1, 1]\n",
      "[1, 2.03265, 'Kamala', False, None, (4+3j), '56', 1, 1, 1, 1]\n"
     ]
    }
   ],
   "source": [
    "print(g)\n",
    "print(g[6])\n",
    "print(g[-3])\n",
    "print(g[:])\n",
    "print(g[::])"
   ]
  },
  {
   "cell_type": "code",
   "execution_count": 50,
   "metadata": {
    "scrolled": true
   },
   "outputs": [
    {
     "name": "stdout",
     "output_type": "stream",
     "text": [
      "[1, 2.03265, 'Kamala', False, None, (4+3j), '56', 1, 1, 1, 1]\n",
      "[False, None, (4+3j), '56', 1, 1, 1, 1]\n",
      "[1, 1, 1, 1]\n",
      "[1, 2.03265, 'Kamala', False, None, (4+3j)]\n",
      "[1, 2.03265, 'Kamala', False, None, (4+3j), '56', 1]\n",
      "[False, None, (4+3j), '56']\n",
      "[]\n",
      "[False, None]\n",
      "[None]\n",
      "[1, 1]\n",
      "[None, (4+3j)]\n",
      "[]\n",
      "[None, (4+3j), '56']\n"
     ]
    }
   ],
   "source": [
    "print(g)\n",
    "print(g[3:])\n",
    "print(g[-4:])\n",
    "print(g[:6])\n",
    "print(g[:-3])\n",
    "print(g[3:7])\n",
    "print(g[7:4])\n",
    "print(g[3:5])\n",
    "print(g[-7:5])\n",
    "print(g[-4:9])\n",
    "print(g[4:-5])\n",
    "print(g[5:-7])\n",
    "print(g[-7:-4])"
   ]
  },
  {
   "cell_type": "code",
   "execution_count": 80,
   "metadata": {},
   "outputs": [
    {
     "name": "stdout",
     "output_type": "stream",
     "text": [
      "['__add__', '__class__', '__contains__', '__delattr__', '__delitem__', '__dir__', '__doc__', '__eq__', '__format__', '__ge__', '__getattribute__', '__getitem__', '__gt__', '__hash__', '__iadd__', '__imul__', '__init__', '__init_subclass__', '__iter__', '__le__', '__len__', '__lt__', '__mul__', '__ne__', '__new__', '__reduce__', '__reduce_ex__', '__repr__', '__reversed__', '__rmul__', '__setattr__', '__setitem__', '__sizeof__', '__str__', '__subclasshook__', 'append', 'clear', 'copy', 'count', 'extend', 'index', 'insert', 'pop', 'remove', 'reverse', 'sort']\n"
     ]
    }
   ],
   "source": [
    "print(dir(list))"
   ]
  },
  {
   "cell_type": "code",
   "execution_count": 81,
   "metadata": {},
   "outputs": [
    {
     "name": "stdout",
     "output_type": "stream",
     "text": [
      "Extend list by appending elements from the iterable.\n"
     ]
    }
   ],
   "source": [
    "print(list.extend.__doc__)"
   ]
  },
  {
   "cell_type": "code",
   "execution_count": 82,
   "metadata": {},
   "outputs": [
    {
     "name": "stdout",
     "output_type": "stream",
     "text": [
      "Help on method_descriptor:\n",
      "\n",
      "extend(self, iterable, /)\n",
      "    Extend list by appending elements from the iterable.\n",
      "\n"
     ]
    }
   ],
   "source": [
    "help(list.extend)"
   ]
  },
  {
   "cell_type": "code",
   "execution_count": 83,
   "metadata": {},
   "outputs": [
    {
     "name": "stdout",
     "output_type": "stream",
     "text": [
      "Help on class list in module builtins:\n",
      "\n",
      "class list(object)\n",
      " |  list(iterable=(), /)\n",
      " |  \n",
      " |  Built-in mutable sequence.\n",
      " |  \n",
      " |  If no argument is given, the constructor creates a new empty list.\n",
      " |  The argument must be an iterable if specified.\n",
      " |  \n",
      " |  Methods defined here:\n",
      " |  \n",
      " |  __add__(self, value, /)\n",
      " |      Return self+value.\n",
      " |  \n",
      " |  __contains__(self, key, /)\n",
      " |      Return key in self.\n",
      " |  \n",
      " |  __delitem__(self, key, /)\n",
      " |      Delete self[key].\n",
      " |  \n",
      " |  __eq__(self, value, /)\n",
      " |      Return self==value.\n",
      " |  \n",
      " |  __ge__(self, value, /)\n",
      " |      Return self>=value.\n",
      " |  \n",
      " |  __getattribute__(self, name, /)\n",
      " |      Return getattr(self, name).\n",
      " |  \n",
      " |  __getitem__(...)\n",
      " |      x.__getitem__(y) <==> x[y]\n",
      " |  \n",
      " |  __gt__(self, value, /)\n",
      " |      Return self>value.\n",
      " |  \n",
      " |  __iadd__(self, value, /)\n",
      " |      Implement self+=value.\n",
      " |  \n",
      " |  __imul__(self, value, /)\n",
      " |      Implement self*=value.\n",
      " |  \n",
      " |  __init__(self, /, *args, **kwargs)\n",
      " |      Initialize self.  See help(type(self)) for accurate signature.\n",
      " |  \n",
      " |  __iter__(self, /)\n",
      " |      Implement iter(self).\n",
      " |  \n",
      " |  __le__(self, value, /)\n",
      " |      Return self<=value.\n",
      " |  \n",
      " |  __len__(self, /)\n",
      " |      Return len(self).\n",
      " |  \n",
      " |  __lt__(self, value, /)\n",
      " |      Return self<value.\n",
      " |  \n",
      " |  __mul__(self, value, /)\n",
      " |      Return self*value.\n",
      " |  \n",
      " |  __ne__(self, value, /)\n",
      " |      Return self!=value.\n",
      " |  \n",
      " |  __repr__(self, /)\n",
      " |      Return repr(self).\n",
      " |  \n",
      " |  __reversed__(self, /)\n",
      " |      Return a reverse iterator over the list.\n",
      " |  \n",
      " |  __rmul__(self, value, /)\n",
      " |      Return value*self.\n",
      " |  \n",
      " |  __setitem__(self, key, value, /)\n",
      " |      Set self[key] to value.\n",
      " |  \n",
      " |  __sizeof__(self, /)\n",
      " |      Return the size of the list in memory, in bytes.\n",
      " |  \n",
      " |  append(self, object, /)\n",
      " |      Append object to the end of the list.\n",
      " |  \n",
      " |  clear(self, /)\n",
      " |      Remove all items from list.\n",
      " |  \n",
      " |  copy(self, /)\n",
      " |      Return a shallow copy of the list.\n",
      " |  \n",
      " |  count(self, value, /)\n",
      " |      Return number of occurrences of value.\n",
      " |  \n",
      " |  extend(self, iterable, /)\n",
      " |      Extend list by appending elements from the iterable.\n",
      " |  \n",
      " |  index(self, value, start=0, stop=9223372036854775807, /)\n",
      " |      Return first index of value.\n",
      " |      \n",
      " |      Raises ValueError if the value is not present.\n",
      " |  \n",
      " |  insert(self, index, object, /)\n",
      " |      Insert object before index.\n",
      " |  \n",
      " |  pop(self, index=-1, /)\n",
      " |      Remove and return item at index (default last).\n",
      " |      \n",
      " |      Raises IndexError if list is empty or index is out of range.\n",
      " |  \n",
      " |  remove(self, value, /)\n",
      " |      Remove first occurrence of value.\n",
      " |      \n",
      " |      Raises ValueError if the value is not present.\n",
      " |  \n",
      " |  reverse(self, /)\n",
      " |      Reverse *IN PLACE*.\n",
      " |  \n",
      " |  sort(self, /, *, key=None, reverse=False)\n",
      " |      Sort the list in ascending order and return None.\n",
      " |      \n",
      " |      The sort is in-place (i.e. the list itself is modified) and stable (i.e. the\n",
      " |      order of two equal elements is maintained).\n",
      " |      \n",
      " |      If a key function is given, apply it once to each list item and sort them,\n",
      " |      ascending or descending, according to their function values.\n",
      " |      \n",
      " |      The reverse flag can be set to sort in descending order.\n",
      " |  \n",
      " |  ----------------------------------------------------------------------\n",
      " |  Static methods defined here:\n",
      " |  \n",
      " |  __new__(*args, **kwargs) from builtins.type\n",
      " |      Create and return a new object.  See help(type) for accurate signature.\n",
      " |  \n",
      " |  ----------------------------------------------------------------------\n",
      " |  Data and other attributes defined here:\n",
      " |  \n",
      " |  __hash__ = None\n",
      "\n"
     ]
    }
   ],
   "source": [
    "help(list)"
   ]
  },
  {
   "cell_type": "code",
   "execution_count": 53,
   "metadata": {},
   "outputs": [
    {
     "name": "stdout",
     "output_type": "stream",
     "text": [
      "[1, 2.03265, 'Kamala', False, None, (4+3j), '56', 1, 1, 1, 1]\n",
      "['56', 1, 1, 1, 1]\n",
      "[1, 2.03265, 'Kamala', False, None, (4+3j), '56']\n"
     ]
    }
   ],
   "source": [
    "print(g)\n",
    "print(g[6::])\n",
    "print(g[:7:])"
   ]
  },
  {
   "cell_type": "code",
   "execution_count": 54,
   "metadata": {},
   "outputs": [
    {
     "name": "stdout",
     "output_type": "stream",
     "text": [
      "[]\n",
      "[45]\n"
     ]
    }
   ],
   "source": [
    "h = []\n",
    "print(h)\n",
    "h.append(45)\n",
    "print(h)"
   ]
  },
  {
   "cell_type": "code",
   "execution_count": 56,
   "metadata": {},
   "outputs": [
    {
     "name": "stdout",
     "output_type": "stream",
     "text": [
      "[]\n"
     ]
    }
   ],
   "source": [
    "b = list()\n",
    "print(b)"
   ]
  },
  {
   "cell_type": "code",
   "execution_count": 57,
   "metadata": {},
   "outputs": [
    {
     "name": "stdout",
     "output_type": "stream",
     "text": [
      "[45]\n"
     ]
    },
    {
     "ename": "TypeError",
     "evalue": "append() takes exactly one argument (2 given)",
     "output_type": "error",
     "traceback": [
      "\u001b[1;31m----------------------------------------------------------\u001b[0m",
      "\u001b[1;31mTypeError\u001b[0m                Traceback (most recent call last)",
      "\u001b[1;32m<ipython-input-57-4a25f927cdbd>\u001b[0m in \u001b[0;36m<module>\u001b[1;34m\u001b[0m\n\u001b[0;32m      1\u001b[0m \u001b[0mprint\u001b[0m\u001b[1;33m(\u001b[0m\u001b[0mh\u001b[0m\u001b[1;33m)\u001b[0m\u001b[1;33m\u001b[0m\u001b[1;33m\u001b[0m\u001b[0m\n\u001b[1;32m----> 2\u001b[1;33m \u001b[0mh\u001b[0m\u001b[1;33m.\u001b[0m\u001b[0mappend\u001b[0m\u001b[1;33m(\u001b[0m\u001b[1;36m10\u001b[0m\u001b[1;33m,\u001b[0m\u001b[1;36m50\u001b[0m\u001b[1;33m)\u001b[0m\u001b[1;33m\u001b[0m\u001b[1;33m\u001b[0m\u001b[0m\n\u001b[0m\u001b[0;32m      3\u001b[0m \u001b[0mprint\u001b[0m\u001b[1;33m(\u001b[0m\u001b[0mh\u001b[0m\u001b[1;33m)\u001b[0m\u001b[1;33m\u001b[0m\u001b[1;33m\u001b[0m\u001b[0m\n",
      "\u001b[1;31mTypeError\u001b[0m: append() takes exactly one argument (2 given)"
     ]
    }
   ],
   "source": [
    "print(h)\n",
    "h.append(10,50)\n",
    "print(h)"
   ]
  },
  {
   "cell_type": "code",
   "execution_count": 58,
   "metadata": {},
   "outputs": [
    {
     "name": "stdout",
     "output_type": "stream",
     "text": [
      "[45]\n",
      "[45, [45, 89, 6]]\n"
     ]
    }
   ],
   "source": [
    "print(h)\n",
    "h.append([45,89,6])\n",
    "print(h)"
   ]
  },
  {
   "cell_type": "code",
   "execution_count": 59,
   "metadata": {},
   "outputs": [
    {
     "name": "stdout",
     "output_type": "stream",
     "text": [
      "[45, [45, 89, 6]]\n",
      "[45, [45, 89, 6], (4, 8, 2, 9)]\n"
     ]
    }
   ],
   "source": [
    "print(h)\n",
    "h.append((4,8,2,9))\n",
    "print(h)"
   ]
  },
  {
   "cell_type": "code",
   "execution_count": 60,
   "metadata": {},
   "outputs": [
    {
     "name": "stdout",
     "output_type": "stream",
     "text": [
      "[45, [45, 89, 6], (4, 8, 2, 9)]\n",
      "[45, [45, 89, 6], (4, 8, 2, 9), {8, 1, 9, 6}]\n"
     ]
    }
   ],
   "source": [
    "print(h)\n",
    "h.append({1,8,9,6})\n",
    "print(h)"
   ]
  },
  {
   "cell_type": "code",
   "execution_count": 61,
   "metadata": {},
   "outputs": [
    {
     "name": "stdout",
     "output_type": "stream",
     "text": [
      "[45, [45, 89, 6], (4, 8, 2, 9), {8, 1, 9, 6}]\n",
      "[45, [45, 89, 6], (4, 8, 2, 9), {8, 1, 9, 6}, 'raju is good at teaching']\n"
     ]
    }
   ],
   "source": [
    "print(h)\n",
    "h.append('raju is good at teaching')\n",
    "print(h)"
   ]
  },
  {
   "cell_type": "code",
   "execution_count": 62,
   "metadata": {},
   "outputs": [
    {
     "name": "stdout",
     "output_type": "stream",
     "text": [
      "[45, [45, 89, 6], (4, 8, 2, 9), {8, 1, 9, 6}, 'raju is good at teaching']\n"
     ]
    },
    {
     "ename": "TypeError",
     "evalue": "'int' object is not iterable",
     "output_type": "error",
     "traceback": [
      "\u001b[1;31m----------------------------------------------------------\u001b[0m",
      "\u001b[1;31mTypeError\u001b[0m                Traceback (most recent call last)",
      "\u001b[1;32m<ipython-input-62-b19aa74c6c72>\u001b[0m in \u001b[0;36m<module>\u001b[1;34m\u001b[0m\n\u001b[0;32m      1\u001b[0m \u001b[0mprint\u001b[0m\u001b[1;33m(\u001b[0m\u001b[0mh\u001b[0m\u001b[1;33m)\u001b[0m\u001b[1;33m\u001b[0m\u001b[1;33m\u001b[0m\u001b[0m\n\u001b[1;32m----> 2\u001b[1;33m \u001b[0mh\u001b[0m\u001b[1;33m.\u001b[0m\u001b[0mextend\u001b[0m\u001b[1;33m(\u001b[0m\u001b[1;36m12\u001b[0m\u001b[1;33m)\u001b[0m\u001b[1;33m\u001b[0m\u001b[1;33m\u001b[0m\u001b[0m\n\u001b[0m\u001b[0;32m      3\u001b[0m \u001b[0mprint\u001b[0m\u001b[1;33m(\u001b[0m\u001b[0mh\u001b[0m\u001b[1;33m)\u001b[0m\u001b[1;33m\u001b[0m\u001b[1;33m\u001b[0m\u001b[0m\n",
      "\u001b[1;31mTypeError\u001b[0m: 'int' object is not iterable"
     ]
    }
   ],
   "source": [
    "print(h)\n",
    "h.extend(12)\n",
    "print(h)"
   ]
  },
  {
   "cell_type": "code",
   "execution_count": 63,
   "metadata": {},
   "outputs": [
    {
     "name": "stdout",
     "output_type": "stream",
     "text": [
      "[45, [45, 89, 6], (4, 8, 2, 9), {8, 1, 9, 6}, 'raju is good at teaching']\n",
      "[45, [45, 89, 6], (4, 8, 2, 9), {8, 1, 9, 6}, 'raju is good at teaching', 1, 0, 5, 6, 9, 8]\n"
     ]
    }
   ],
   "source": [
    "print(h)\n",
    "h.extend([1,0,5,6,9,8])\n",
    "print(h)"
   ]
  },
  {
   "cell_type": "code",
   "execution_count": 64,
   "metadata": {},
   "outputs": [
    {
     "name": "stdout",
     "output_type": "stream",
     "text": [
      "[45, [45, 89, 6], (4, 8, 2, 9), {8, 1, 9, 6}, 'raju is good at teaching', 1, 0, 5, 6, 9, 8]\n",
      "[45, [45, 89, 6], (4, 8, 2, 9), {8, 1, 9, 6}, 'raju is good at teaching', 1, 0, 5, 6, 9, 8, 4, 8]\n"
     ]
    }
   ],
   "source": [
    "print(h)\n",
    "h.extend((4,8))\n",
    "print(h)"
   ]
  },
  {
   "cell_type": "code",
   "execution_count": 65,
   "metadata": {},
   "outputs": [
    {
     "name": "stdout",
     "output_type": "stream",
     "text": [
      "[45, [45, 89, 6], (4, 8, 2, 9), {8, 1, 9, 6}, 'raju is good at teaching', 1, 0, 5, 6, 9, 8, 4, 8]\n",
      "[45, [45, 89, 6], (4, 8, 2, 9), {8, 1, 9, 6}, 'raju is good at teaching', 1, 0, 5, 6, 9, 8, 4, 8, 8, 6, 7]\n"
     ]
    }
   ],
   "source": [
    "print(h)\n",
    "h.extend({6,7,8})\n",
    "print(h)"
   ]
  },
  {
   "cell_type": "code",
   "execution_count": 66,
   "metadata": {},
   "outputs": [
    {
     "name": "stdout",
     "output_type": "stream",
     "text": [
      "[45, [45, 89, 6], (4, 8, 2, 9), {8, 1, 9, 6}, 'raju is good at teaching', 1, 0, 5, 6, 9, 8, 4, 8, 8, 6, 7]\n",
      "[45, [45, 89, 6], (4, 8, 2, 9), {8, 1, 9, 6}, 'raju is good at teaching', 1, 0, 5, 6, 9, 8, 4, 8, 8, 6, 7, 'p', 'y', 't', 'h', 'o', 'n']\n"
     ]
    }
   ],
   "source": [
    "print(h)\n",
    "h.extend('python')\n",
    "print(h)"
   ]
  },
  {
   "cell_type": "code",
   "execution_count": 67,
   "metadata": {},
   "outputs": [
    {
     "name": "stdout",
     "output_type": "stream",
     "text": [
      "[7, 89, 'Prasanna', '67']\n",
      "[7, 89, 'Prasanna']\n"
     ]
    }
   ],
   "source": [
    "s = [7,89,'Prasanna','67']\n",
    "print(s)\n",
    "s.pop()\n",
    "print(s)"
   ]
  },
  {
   "cell_type": "code",
   "execution_count": 68,
   "metadata": {},
   "outputs": [
    {
     "name": "stdout",
     "output_type": "stream",
     "text": [
      "[7, 89, 'Prasanna']\n"
     ]
    },
    {
     "ename": "IndexError",
     "evalue": "pop index out of range",
     "output_type": "error",
     "traceback": [
      "\u001b[1;31m----------------------------------------------------------\u001b[0m",
      "\u001b[1;31mIndexError\u001b[0m               Traceback (most recent call last)",
      "\u001b[1;32m<ipython-input-68-9bf3af6b7dd5>\u001b[0m in \u001b[0;36m<module>\u001b[1;34m\u001b[0m\n\u001b[0;32m      1\u001b[0m \u001b[0mprint\u001b[0m\u001b[1;33m(\u001b[0m\u001b[0ms\u001b[0m\u001b[1;33m)\u001b[0m\u001b[1;33m\u001b[0m\u001b[1;33m\u001b[0m\u001b[0m\n\u001b[1;32m----> 2\u001b[1;33m \u001b[0ms\u001b[0m\u001b[1;33m.\u001b[0m\u001b[0mpop\u001b[0m\u001b[1;33m(\u001b[0m\u001b[1;36m7\u001b[0m\u001b[1;33m)\u001b[0m\u001b[1;33m\u001b[0m\u001b[1;33m\u001b[0m\u001b[0m\n\u001b[0m\u001b[0;32m      3\u001b[0m \u001b[0mprint\u001b[0m\u001b[1;33m(\u001b[0m\u001b[0ms\u001b[0m\u001b[1;33m)\u001b[0m\u001b[1;33m\u001b[0m\u001b[1;33m\u001b[0m\u001b[0m\n",
      "\u001b[1;31mIndexError\u001b[0m: pop index out of range"
     ]
    }
   ],
   "source": [
    "print(s)\n",
    "s.pop(7)\n",
    "print(s)"
   ]
  },
  {
   "cell_type": "code",
   "execution_count": 69,
   "metadata": {},
   "outputs": [
    {
     "name": "stdout",
     "output_type": "stream",
     "text": [
      "[7, 89, 'Prasanna']\n",
      "[89, 'Prasanna']\n"
     ]
    }
   ],
   "source": [
    "print(s)\n",
    "s.pop(0)\n",
    "print(s)"
   ]
  },
  {
   "cell_type": "code",
   "execution_count": 70,
   "metadata": {},
   "outputs": [
    {
     "name": "stdout",
     "output_type": "stream",
     "text": [
      "[89, 'Prasanna']\n"
     ]
    },
    {
     "ename": "IndexError",
     "evalue": "pop index out of range",
     "output_type": "error",
     "traceback": [
      "\u001b[1;31m----------------------------------------------------------\u001b[0m",
      "\u001b[1;31mIndexError\u001b[0m               Traceback (most recent call last)",
      "\u001b[1;32m<ipython-input-70-dff82b19fc5f>\u001b[0m in \u001b[0;36m<module>\u001b[1;34m\u001b[0m\n\u001b[0;32m      1\u001b[0m \u001b[0mprint\u001b[0m\u001b[1;33m(\u001b[0m\u001b[0ms\u001b[0m\u001b[1;33m)\u001b[0m\u001b[1;33m\u001b[0m\u001b[1;33m\u001b[0m\u001b[0m\n\u001b[1;32m----> 2\u001b[1;33m \u001b[0ms\u001b[0m\u001b[1;33m.\u001b[0m\u001b[0mpop\u001b[0m\u001b[1;33m(\u001b[0m\u001b[1;33m-\u001b[0m\u001b[1;36m56\u001b[0m\u001b[1;33m)\u001b[0m\u001b[1;33m\u001b[0m\u001b[1;33m\u001b[0m\u001b[0m\n\u001b[0m\u001b[0;32m      3\u001b[0m \u001b[0mprint\u001b[0m\u001b[1;33m(\u001b[0m\u001b[0ms\u001b[0m\u001b[1;33m)\u001b[0m\u001b[1;33m\u001b[0m\u001b[1;33m\u001b[0m\u001b[0m\n",
      "\u001b[1;31mIndexError\u001b[0m: pop index out of range"
     ]
    }
   ],
   "source": [
    "print(s)\n",
    "s.pop(-56)\n",
    "print(s)"
   ]
  },
  {
   "cell_type": "code",
   "execution_count": 71,
   "metadata": {},
   "outputs": [
    {
     "name": "stdout",
     "output_type": "stream",
     "text": [
      "[89, 'Prasanna']\n"
     ]
    },
    {
     "ename": "ValueError",
     "evalue": "list.remove(x): x not in list",
     "output_type": "error",
     "traceback": [
      "\u001b[1;31m----------------------------------------------------------\u001b[0m",
      "\u001b[1;31mValueError\u001b[0m               Traceback (most recent call last)",
      "\u001b[1;32m<ipython-input-71-1659b99206b1>\u001b[0m in \u001b[0;36m<module>\u001b[1;34m\u001b[0m\n\u001b[0;32m      1\u001b[0m \u001b[0mprint\u001b[0m\u001b[1;33m(\u001b[0m\u001b[0ms\u001b[0m\u001b[1;33m)\u001b[0m\u001b[1;33m\u001b[0m\u001b[1;33m\u001b[0m\u001b[0m\n\u001b[1;32m----> 2\u001b[1;33m \u001b[0ms\u001b[0m\u001b[1;33m.\u001b[0m\u001b[0mremove\u001b[0m\u001b[1;33m(\u001b[0m\u001b[1;36m200\u001b[0m\u001b[1;33m)\u001b[0m\u001b[1;33m\u001b[0m\u001b[1;33m\u001b[0m\u001b[0m\n\u001b[0m\u001b[0;32m      3\u001b[0m \u001b[0mprint\u001b[0m\u001b[1;33m(\u001b[0m\u001b[0ms\u001b[0m\u001b[1;33m)\u001b[0m\u001b[1;33m\u001b[0m\u001b[1;33m\u001b[0m\u001b[0m\n",
      "\u001b[1;31mValueError\u001b[0m: list.remove(x): x not in list"
     ]
    }
   ],
   "source": [
    "print(s)\n",
    "s.remove(200)\n",
    "print(s)"
   ]
  },
  {
   "cell_type": "code",
   "execution_count": 72,
   "metadata": {},
   "outputs": [
    {
     "name": "stdout",
     "output_type": "stream",
     "text": [
      "[89, 'Prasanna']\n",
      "['Prasanna']\n"
     ]
    }
   ],
   "source": [
    "print(s)\n",
    "s.remove(89)\n",
    "print(s)"
   ]
  },
  {
   "cell_type": "code",
   "execution_count": 73,
   "metadata": {},
   "outputs": [
    {
     "name": "stdout",
     "output_type": "stream",
     "text": [
      "['Prasanna']\n",
      "[78, 'Prasanna']\n"
     ]
    }
   ],
   "source": [
    "print(s)\n",
    "s.insert(0,78)\n",
    "print(s)"
   ]
  },
  {
   "cell_type": "code",
   "execution_count": 74,
   "metadata": {},
   "outputs": [
    {
     "name": "stdout",
     "output_type": "stream",
     "text": [
      "[78, 'Prasanna']\n",
      "[78, [1, 5, 6, 9, 8], 'Prasanna']\n"
     ]
    }
   ],
   "source": [
    "print(s)\n",
    "s.insert(1,[1,5,6,9,8])\n",
    "print(s)"
   ]
  },
  {
   "cell_type": "code",
   "execution_count": 75,
   "metadata": {},
   "outputs": [
    {
     "name": "stdout",
     "output_type": "stream",
     "text": [
      "[78, [1, 5, 6, 9, 8], 'Prasanna']\n",
      "[(1, 5, 6, 3, 2), 78, [1, 5, 6, 9, 8], 'Prasanna']\n"
     ]
    }
   ],
   "source": [
    "print(s)\n",
    "s.insert(0,(1,5,6,3,2))\n",
    "print(s)"
   ]
  },
  {
   "cell_type": "code",
   "execution_count": 76,
   "metadata": {},
   "outputs": [
    {
     "name": "stdout",
     "output_type": "stream",
     "text": [
      "[(1, 5, 6, 3, 2), 78, [1, 5, 6, 9, 8], 'Prasanna']\n",
      "[(1, 5, 6, 3, 2), 78, 'Naresh is Good At Technical', [1, 5, 6, 9, 8], 'Prasanna']\n"
     ]
    }
   ],
   "source": [
    "print(s)\n",
    "s.insert(2,'Naresh is Good At Technical')\n",
    "print(s)"
   ]
  },
  {
   "cell_type": "code",
   "execution_count": 77,
   "metadata": {},
   "outputs": [
    {
     "name": "stdout",
     "output_type": "stream",
     "text": [
      "[5, 7, 2, 3, 4, 2, 7]\n",
      "2\n",
      "0\n"
     ]
    }
   ],
   "source": [
    "v = [5,7,2,3,4,2,7]\n",
    "print(v)\n",
    "print(v.count(2))\n",
    "print(v.count(-100))"
   ]
  },
  {
   "cell_type": "code",
   "execution_count": 78,
   "metadata": {},
   "outputs": [
    {
     "name": "stdout",
     "output_type": "stream",
     "text": [
      "[1, 8, 5, 20]\n",
      "[1, 8, 5, 20]\n",
      "2384650912576\n",
      "2384650789184\n"
     ]
    }
   ],
   "source": [
    "c = [1,8,5,20]\n",
    "n = c.copy()\n",
    "print(c)\n",
    "print(n)\n",
    "print(id(c))\n",
    "print(id(n))"
   ]
  },
  {
   "cell_type": "code",
   "execution_count": 79,
   "metadata": {},
   "outputs": [
    {
     "name": "stdout",
     "output_type": "stream",
     "text": [
      "[1, 8, 5, 20]\n",
      "[1, 8, 5, 20]\n",
      "[1, 8, 5]\n",
      "[1, 8, 5, 20]\n"
     ]
    }
   ],
   "source": [
    "print(n)\n",
    "print(c)\n",
    "n.pop()\n",
    "print(n)\n",
    "print(c)"
   ]
  },
  {
   "cell_type": "code",
   "execution_count": 84,
   "metadata": {},
   "outputs": [
    {
     "name": "stdout",
     "output_type": "stream",
     "text": [
      "[4, 67, 89, 456, 9, 23, 1]\n",
      "2\n"
     ]
    },
    {
     "ename": "ValueError",
     "evalue": "26 is not in list",
     "output_type": "error",
     "traceback": [
      "\u001b[1;31m----------------------------------------------------------\u001b[0m",
      "\u001b[1;31mValueError\u001b[0m               Traceback (most recent call last)",
      "\u001b[1;32m<ipython-input-84-d118745af441>\u001b[0m in \u001b[0;36m<module>\u001b[1;34m\u001b[0m\n\u001b[0;32m      2\u001b[0m \u001b[0mprint\u001b[0m\u001b[1;33m(\u001b[0m\u001b[0md\u001b[0m\u001b[1;33m)\u001b[0m\u001b[1;33m\u001b[0m\u001b[1;33m\u001b[0m\u001b[0m\n\u001b[0;32m      3\u001b[0m \u001b[0mprint\u001b[0m\u001b[1;33m(\u001b[0m\u001b[0md\u001b[0m\u001b[1;33m.\u001b[0m\u001b[0mindex\u001b[0m\u001b[1;33m(\u001b[0m\u001b[1;36m89\u001b[0m\u001b[1;33m)\u001b[0m\u001b[1;33m)\u001b[0m\u001b[1;33m\u001b[0m\u001b[1;33m\u001b[0m\u001b[0m\n\u001b[1;32m----> 4\u001b[1;33m \u001b[0mprint\u001b[0m\u001b[1;33m(\u001b[0m\u001b[0md\u001b[0m\u001b[1;33m.\u001b[0m\u001b[0mindex\u001b[0m\u001b[1;33m(\u001b[0m\u001b[1;36m26\u001b[0m\u001b[1;33m)\u001b[0m\u001b[1;33m)\u001b[0m\u001b[1;33m\u001b[0m\u001b[1;33m\u001b[0m\u001b[0m\n\u001b[0m",
      "\u001b[1;31mValueError\u001b[0m: 26 is not in list"
     ]
    }
   ],
   "source": [
    "d = [4,67,89,456,9,23,1]\n",
    "print(d)\n",
    "print(d.index(89))\n",
    "print(d.index(26))"
   ]
  },
  {
   "cell_type": "code",
   "execution_count": 85,
   "metadata": {},
   "outputs": [
    {
     "name": "stdout",
     "output_type": "stream",
     "text": [
      "[4, 67, 89, 456, 9, 23, 1]\n",
      "[1, 4, 9, 23, 67, 89, 456]\n"
     ]
    }
   ],
   "source": [
    "print(d)\n",
    "d.sort()\n",
    "print(d)"
   ]
  },
  {
   "cell_type": "code",
   "execution_count": 86,
   "metadata": {},
   "outputs": [
    {
     "name": "stdout",
     "output_type": "stream",
     "text": [
      "[12, 3, 69, 569, 54, 2]\n",
      "[569, 69, 54, 12, 3, 2]\n"
     ]
    }
   ],
   "source": [
    "a = [12,3,69,569,54,2]\n",
    "print(a)\n",
    "a.sort(reverse=True)\n",
    "print(a)"
   ]
  },
  {
   "cell_type": "code",
   "execution_count": 87,
   "metadata": {},
   "outputs": [
    {
     "name": "stdout",
     "output_type": "stream",
     "text": [
      "[15, 98, 5, 36, 2, 78]\n",
      "[78, 2, 36, 5, 98, 15]\n"
     ]
    }
   ],
   "source": [
    "y = [15,98,5,36,2,78]\n",
    "print(y)\n",
    "y.reverse()\n",
    "print(y)"
   ]
  },
  {
   "cell_type": "code",
   "execution_count": 88,
   "metadata": {},
   "outputs": [
    {
     "name": "stdout",
     "output_type": "stream",
     "text": [
      "[45, 89]\n",
      "[]\n"
     ]
    }
   ],
   "source": [
    "p = [45,89]\n",
    "print(p)\n",
    "p.clear()\n",
    "print(p)"
   ]
  },
  {
   "cell_type": "code",
   "execution_count": 89,
   "metadata": {},
   "outputs": [
    {
     "name": "stdout",
     "output_type": "stream",
     "text": [
      "[1, 78, 2]\n"
     ]
    },
    {
     "ename": "NameError",
     "evalue": "name 'k' is not defined",
     "output_type": "error",
     "traceback": [
      "\u001b[1;31m----------------------------------------------------------\u001b[0m",
      "\u001b[1;31mNameError\u001b[0m                Traceback (most recent call last)",
      "\u001b[1;32m<ipython-input-89-5dafa13bd3ef>\u001b[0m in \u001b[0;36m<module>\u001b[1;34m\u001b[0m\n\u001b[0;32m      2\u001b[0m \u001b[0mprint\u001b[0m\u001b[1;33m(\u001b[0m\u001b[0mk\u001b[0m\u001b[1;33m)\u001b[0m\u001b[1;33m\u001b[0m\u001b[1;33m\u001b[0m\u001b[0m\n\u001b[0;32m      3\u001b[0m \u001b[1;32mdel\u001b[0m \u001b[0mk\u001b[0m\u001b[1;33m\u001b[0m\u001b[1;33m\u001b[0m\u001b[0m\n\u001b[1;32m----> 4\u001b[1;33m \u001b[0mprint\u001b[0m\u001b[1;33m(\u001b[0m\u001b[0mk\u001b[0m\u001b[1;33m)\u001b[0m\u001b[1;33m\u001b[0m\u001b[1;33m\u001b[0m\u001b[0m\n\u001b[0m",
      "\u001b[1;31mNameError\u001b[0m: name 'k' is not defined"
     ]
    }
   ],
   "source": [
    "k = [1,78,2]\n",
    "print(k)\n",
    "del k\n",
    "print(k)"
   ]
  },
  {
   "cell_type": "markdown",
   "metadata": {},
   "source": [
    "## Tuple"
   ]
  },
  {
   "cell_type": "code",
   "execution_count": 90,
   "metadata": {},
   "outputs": [
    {
     "name": "stdout",
     "output_type": "stream",
     "text": [
      "(2, 12.0, False, None, (6+3j), 'Lalitha', 2, 2, '90') <class 'tuple'>\n"
     ]
    }
   ],
   "source": [
    "c = (2,12.000,False,None,6+3j,\"Lalitha\",2,2,'90')\n",
    "print(c,type(c))"
   ]
  },
  {
   "cell_type": "code",
   "execution_count": 96,
   "metadata": {},
   "outputs": [
    {
     "name": "stdout",
     "output_type": "stream",
     "text": [
      "(2, 12.0, False, None, (6+3j), 'Lalitha', 2, 2, '90')\n",
      "Lalitha\n",
      "(None, (6+3j), 'Lalitha', 2)\n",
      "(12.0, None, 'Lalitha')\n"
     ]
    }
   ],
   "source": [
    "print(c)\n",
    "print(c[5])\n",
    "print(c[3:7])\n",
    "print(c[1:7:2])"
   ]
  },
  {
   "cell_type": "code",
   "execution_count": 98,
   "metadata": {},
   "outputs": [
    {
     "name": "stdout",
     "output_type": "stream",
     "text": [
      "['__add__', '__class__', '__contains__', '__delattr__', '__dir__', '__doc__', '__eq__', '__format__', '__ge__', '__getattribute__', '__getitem__', '__getnewargs__', '__gt__', '__hash__', '__init__', '__init_subclass__', '__iter__', '__le__', '__len__', '__lt__', '__mul__', '__ne__', '__new__', '__reduce__', '__reduce_ex__', '__repr__', '__rmul__', '__setattr__', '__sizeof__', '__str__', '__subclasshook__', 'count', 'index']\n"
     ]
    }
   ],
   "source": [
    "print(dir(tuple))"
   ]
  },
  {
   "cell_type": "code",
   "execution_count": 97,
   "metadata": {},
   "outputs": [
    {
     "name": "stdout",
     "output_type": "stream",
     "text": [
      "2 <class 'int'>\n",
      "12.0 <class 'float'>\n",
      "False <class 'bool'>\n",
      "None <class 'NoneType'>\n",
      "(6+3j) <class 'complex'>\n",
      "Lalitha <class 'str'>\n",
      "2 <class 'int'>\n",
      "2 <class 'int'>\n",
      "90 <class 'str'>\n"
     ]
    }
   ],
   "source": [
    "for i in range(len(c)):\n",
    "    print(c[i],type(c[i]))"
   ]
  },
  {
   "cell_type": "code",
   "execution_count": 99,
   "metadata": {},
   "outputs": [
    {
     "name": "stdout",
     "output_type": "stream",
     "text": [
      "2 <class 'int'>\n",
      "12.0 <class 'float'>\n",
      "False <class 'bool'>\n",
      "None <class 'NoneType'>\n",
      "(6+3j) <class 'complex'>\n",
      "Lalitha <class 'str'>\n",
      "2 <class 'int'>\n",
      "2 <class 'int'>\n",
      "90 <class 'str'>\n"
     ]
    }
   ],
   "source": [
    "for i in c:\n",
    "    print(i,type(i))"
   ]
  },
  {
   "cell_type": "code",
   "execution_count": 100,
   "metadata": {},
   "outputs": [
    {
     "name": "stdout",
     "output_type": "stream",
     "text": [
      "(1, 56, 8, 9, 1, 1, 8, 59)\n",
      "3\n",
      "0\n"
     ]
    }
   ],
   "source": [
    "w = (1,56,8,9,1,1,8,59)\n",
    "print(w)\n",
    "print(w.count(1))\n",
    "print(w.count(-200))"
   ]
  },
  {
   "cell_type": "code",
   "execution_count": 101,
   "metadata": {},
   "outputs": [
    {
     "name": "stdout",
     "output_type": "stream",
     "text": [
      "(1, 56, 8, 9, 1, 1, 8, 59)\n",
      "0\n"
     ]
    },
    {
     "ename": "ValueError",
     "evalue": "tuple.index(x): x not in tuple",
     "output_type": "error",
     "traceback": [
      "\u001b[1;31m----------------------------------------------------------\u001b[0m",
      "\u001b[1;31mValueError\u001b[0m               Traceback (most recent call last)",
      "\u001b[1;32m<ipython-input-101-7e3cb189b7ff>\u001b[0m in \u001b[0;36m<module>\u001b[1;34m\u001b[0m\n\u001b[0;32m      1\u001b[0m \u001b[0mprint\u001b[0m\u001b[1;33m(\u001b[0m\u001b[0mw\u001b[0m\u001b[1;33m)\u001b[0m\u001b[1;33m\u001b[0m\u001b[1;33m\u001b[0m\u001b[0m\n\u001b[0;32m      2\u001b[0m \u001b[0mprint\u001b[0m\u001b[1;33m(\u001b[0m\u001b[0mw\u001b[0m\u001b[1;33m.\u001b[0m\u001b[0mindex\u001b[0m\u001b[1;33m(\u001b[0m\u001b[1;36m1\u001b[0m\u001b[1;33m)\u001b[0m\u001b[1;33m)\u001b[0m\u001b[1;33m\u001b[0m\u001b[1;33m\u001b[0m\u001b[0m\n\u001b[1;32m----> 3\u001b[1;33m \u001b[0mprint\u001b[0m\u001b[1;33m(\u001b[0m\u001b[0mw\u001b[0m\u001b[1;33m.\u001b[0m\u001b[0mindex\u001b[0m\u001b[1;33m(\u001b[0m\u001b[1;33m-\u001b[0m\u001b[1;36m10\u001b[0m\u001b[1;33m)\u001b[0m\u001b[1;33m)\u001b[0m\u001b[1;33m\u001b[0m\u001b[1;33m\u001b[0m\u001b[0m\n\u001b[0m",
      "\u001b[1;31mValueError\u001b[0m: tuple.index(x): x not in tuple"
     ]
    }
   ],
   "source": [
    "print(w)\n",
    "print(w.index(1))\n",
    "print(w.index(-10))"
   ]
  },
  {
   "cell_type": "code",
   "execution_count": null,
   "metadata": {},
   "outputs": [],
   "source": []
  }
 ],
 "metadata": {
  "kernelspec": {
   "display_name": "Python 3",
   "language": "python",
   "name": "python3"
  },
  "language_info": {
   "codemirror_mode": {
    "name": "ipython",
    "version": 3
   },
   "file_extension": ".py",
   "mimetype": "text/x-python",
   "name": "python",
   "nbconvert_exporter": "python",
   "pygments_lexer": "ipython3",
   "version": "3.8.5"
  }
 },
 "nbformat": 4,
 "nbformat_minor": 4
}
